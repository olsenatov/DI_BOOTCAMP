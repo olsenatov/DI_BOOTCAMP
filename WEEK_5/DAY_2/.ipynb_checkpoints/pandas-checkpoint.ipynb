{
 "cells": [
  {
   "cell_type": "code",
   "execution_count": 3,
   "id": "2fc30b8f-9f41-4568-9eeb-6b4eb8627a32",
   "metadata": {},
   "outputs": [],
   "source": [
    "import pandas as pd\n",
    "import numpy as np"
   ]
  },
  {
   "cell_type": "markdown",
   "id": "6a29d7ee-e587-4cc6-8658-235cf4c839b0",
   "metadata": {},
   "source": [
    "# SERIES - 1dim array of labeled data"
   ]
  },
  {
   "cell_type": "code",
   "execution_count": 2,
   "id": "8d232a47-3cb5-45f2-adb9-a66d39d6dbcb",
   "metadata": {},
   "outputs": [
    {
     "data": {
      "text/plain": [
       "0    A\n",
       "1    B\n",
       "2    C\n",
       "dtype: object"
      ]
     },
     "execution_count": 2,
     "metadata": {},
     "output_type": "execute_result"
    }
   ],
   "source": [
    "pd.Series(['A', 'B', 'C'])"
   ]
  },
  {
   "cell_type": "markdown",
   "id": "72fde92b-d27f-4608-9226-135cedbcb356",
   "metadata": {},
   "source": [
    "# DATAFRAME  - 2D array of labeled data"
   ]
  },
  {
   "cell_type": "code",
   "execution_count": 4,
   "id": "4c5a74ae-f213-4678-89af-f6604d66e100",
   "metadata": {},
   "outputs": [],
   "source": [
    "df = pd.DataFrame({\n",
    "    \"Name\" : [\"Olga\", \"Anna\", \"Alex\"],\n",
    "    \"Color\" : [\"Red\", \"Blue\", \"Green\"],\n",
    "    \"Random\" : [10.0, np.nan, np.nan]\n",
    "})"
   ]
  },
  {
   "cell_type": "code",
   "execution_count": 5,
   "id": "3d62598e-f70c-4ab9-a1e7-f0e5fdbd7167",
   "metadata": {},
   "outputs": [
    {
     "data": {
      "text/html": [
       "<div>\n",
       "<style scoped>\n",
       "    .dataframe tbody tr th:only-of-type {\n",
       "        vertical-align: middle;\n",
       "    }\n",
       "\n",
       "    .dataframe tbody tr th {\n",
       "        vertical-align: top;\n",
       "    }\n",
       "\n",
       "    .dataframe thead th {\n",
       "        text-align: right;\n",
       "    }\n",
       "</style>\n",
       "<table border=\"1\" class=\"dataframe\">\n",
       "  <thead>\n",
       "    <tr style=\"text-align: right;\">\n",
       "      <th></th>\n",
       "      <th>Name</th>\n",
       "      <th>Color</th>\n",
       "      <th>Random</th>\n",
       "    </tr>\n",
       "  </thead>\n",
       "  <tbody>\n",
       "    <tr>\n",
       "      <th>0</th>\n",
       "      <td>Olga</td>\n",
       "      <td>Red</td>\n",
       "      <td>10.0</td>\n",
       "    </tr>\n",
       "    <tr>\n",
       "      <th>1</th>\n",
       "      <td>Anna</td>\n",
       "      <td>Blue</td>\n",
       "      <td>NaN</td>\n",
       "    </tr>\n",
       "    <tr>\n",
       "      <th>2</th>\n",
       "      <td>Alex</td>\n",
       "      <td>Green</td>\n",
       "      <td>NaN</td>\n",
       "    </tr>\n",
       "  </tbody>\n",
       "</table>\n",
       "</div>"
      ],
      "text/plain": [
       "   Name  Color  Random\n",
       "0  Olga    Red    10.0\n",
       "1  Anna   Blue     NaN\n",
       "2  Alex  Green     NaN"
      ]
     },
     "execution_count": 5,
     "metadata": {},
     "output_type": "execute_result"
    }
   ],
   "source": [
    "df"
   ]
  },
  {
   "cell_type": "code",
   "execution_count": 6,
   "id": "4a0ec5c1-da2e-43d9-aebc-914a29154a23",
   "metadata": {},
   "outputs": [
    {
     "data": {
      "text/plain": [
       "0    10.0\n",
       "1     NaN\n",
       "2     NaN\n",
       "Name: Random, dtype: float64"
      ]
     },
     "execution_count": 6,
     "metadata": {},
     "output_type": "execute_result"
    }
   ],
   "source": [
    "df[\"Random\"] #returns series"
   ]
  },
  {
   "cell_type": "code",
   "execution_count": 11,
   "id": "2f264c9c-e979-48e4-9ce8-e06f41f53e3a",
   "metadata": {},
   "outputs": [],
   "source": [
    "#CSV file - comma separated values\n",
    "df.to_csv('data.csv', index=False)"
   ]
  },
  {
   "cell_type": "markdown",
   "id": "9d9317fe-f1c4-4409-a362-9524976d4a76",
   "metadata": {},
   "source": [
    "### Exercise 1"
   ]
  },
  {
   "cell_type": "code",
   "execution_count": 12,
   "id": "d7b70097-772a-40b9-8931-30ee33abf73f",
   "metadata": {},
   "outputs": [],
   "source": [
    "fruits = pd.Series([20, 30, 15, 10], index = ['Apples', 'Bananas', 'Cherries', 'Dates'])"
   ]
  },
  {
   "cell_type": "code",
   "execution_count": 13,
   "id": "fc33c850-5707-4dcd-92f6-9dbc06cd7325",
   "metadata": {},
   "outputs": [
    {
     "data": {
      "text/plain": [
       "Apples      20\n",
       "Bananas     30\n",
       "Cherries    15\n",
       "Dates       10\n",
       "dtype: int64"
      ]
     },
     "execution_count": 13,
     "metadata": {},
     "output_type": "execute_result"
    }
   ],
   "source": [
    "fruits"
   ]
  },
  {
   "cell_type": "code",
   "execution_count": 25,
   "id": "1f3b6ccd-a210-4d9a-bfc8-e1df592d3256",
   "metadata": {},
   "outputs": [],
   "source": [
    "fruit_names = ['Apples', 'Bananas', 'Cherries', 'Dates']\n",
    "quantities = [20, 30, 15, 10]\n",
    "colors = ['red', 'yellow', 'red', 'brown']\n",
    "price = [3,2,4,5]\n",
    "fruits_df = pd.DataFrame({ \n",
    "    'quantity' : quantities,\n",
    "    'color' : colors,\n",
    "    'price_kg' : price },\n",
    "    index = fruit_names )\n",
    "    "
   ]
  },
  {
   "cell_type": "code",
   "execution_count": null,
   "id": "e782343f-c88f-47be-937e-a83a172c9143",
   "metadata": {},
   "outputs": [],
   "source": [
    "df.to_csv('fruits_data.csv')"
   ]
  },
  {
   "cell_type": "code",
   "execution_count": 19,
   "id": "75c85bae-1740-49ac-8cc6-a490a0b5aaca",
   "metadata": {},
   "outputs": [],
   "source": [
    "df = pd.read_csv('data.csv', index_col=0)"
   ]
  },
  {
   "cell_type": "code",
   "execution_count": 20,
   "id": "ce19bd46-3c30-4437-b583-78bec5f9576d",
   "metadata": {},
   "outputs": [
    {
     "data": {
      "text/html": [
       "<div>\n",
       "<style scoped>\n",
       "    .dataframe tbody tr th:only-of-type {\n",
       "        vertical-align: middle;\n",
       "    }\n",
       "\n",
       "    .dataframe tbody tr th {\n",
       "        vertical-align: top;\n",
       "    }\n",
       "\n",
       "    .dataframe thead th {\n",
       "        text-align: right;\n",
       "    }\n",
       "</style>\n",
       "<table border=\"1\" class=\"dataframe\">\n",
       "  <thead>\n",
       "    <tr style=\"text-align: right;\">\n",
       "      <th></th>\n",
       "      <th>Color</th>\n",
       "      <th>Random</th>\n",
       "    </tr>\n",
       "    <tr>\n",
       "      <th>Name</th>\n",
       "      <th></th>\n",
       "      <th></th>\n",
       "    </tr>\n",
       "  </thead>\n",
       "  <tbody>\n",
       "    <tr>\n",
       "      <th>Olga</th>\n",
       "      <td>Red</td>\n",
       "      <td>10.0</td>\n",
       "    </tr>\n",
       "    <tr>\n",
       "      <th>Anna</th>\n",
       "      <td>Blue</td>\n",
       "      <td>NaN</td>\n",
       "    </tr>\n",
       "    <tr>\n",
       "      <th>Alex</th>\n",
       "      <td>Green</td>\n",
       "      <td>NaN</td>\n",
       "    </tr>\n",
       "  </tbody>\n",
       "</table>\n",
       "</div>"
      ],
      "text/plain": [
       "      Color  Random\n",
       "Name               \n",
       "Olga    Red    10.0\n",
       "Anna   Blue     NaN\n",
       "Alex  Green     NaN"
      ]
     },
     "execution_count": 20,
     "metadata": {},
     "output_type": "execute_result"
    }
   ],
   "source": [
    "df.head() #first 5 rows by default .head(state how many first)"
   ]
  },
  {
   "cell_type": "code",
   "execution_count": 22,
   "id": "40aabd59-26cd-419e-b2ae-b534c92165ac",
   "metadata": {},
   "outputs": [
    {
     "data": {
      "text/html": [
       "<div>\n",
       "<style scoped>\n",
       "    .dataframe tbody tr th:only-of-type {\n",
       "        vertical-align: middle;\n",
       "    }\n",
       "\n",
       "    .dataframe tbody tr th {\n",
       "        vertical-align: top;\n",
       "    }\n",
       "\n",
       "    .dataframe thead th {\n",
       "        text-align: right;\n",
       "    }\n",
       "</style>\n",
       "<table border=\"1\" class=\"dataframe\">\n",
       "  <thead>\n",
       "    <tr style=\"text-align: right;\">\n",
       "      <th></th>\n",
       "      <th>Color</th>\n",
       "      <th>Random</th>\n",
       "    </tr>\n",
       "    <tr>\n",
       "      <th>Name</th>\n",
       "      <th></th>\n",
       "      <th></th>\n",
       "    </tr>\n",
       "  </thead>\n",
       "  <tbody>\n",
       "    <tr>\n",
       "      <th>Anna</th>\n",
       "      <td>Blue</td>\n",
       "      <td>NaN</td>\n",
       "    </tr>\n",
       "    <tr>\n",
       "      <th>Alex</th>\n",
       "      <td>Green</td>\n",
       "      <td>NaN</td>\n",
       "    </tr>\n",
       "  </tbody>\n",
       "</table>\n",
       "</div>"
      ],
      "text/plain": [
       "      Color  Random\n",
       "Name               \n",
       "Anna   Blue     NaN\n",
       "Alex  Green     NaN"
      ]
     },
     "execution_count": 22,
     "metadata": {},
     "output_type": "execute_result"
    }
   ],
   "source": [
    "df.tail(2) #the last rows"
   ]
  },
  {
   "cell_type": "code",
   "execution_count": 23,
   "id": "a897d862-b8e5-4568-8e0d-0f14dce2b95b",
   "metadata": {},
   "outputs": [
    {
     "name": "stdout",
     "output_type": "stream",
     "text": [
      "<class 'pandas.core.frame.DataFrame'>\n",
      "Index: 3 entries, Olga to Alex\n",
      "Data columns (total 2 columns):\n",
      " #   Column  Non-Null Count  Dtype  \n",
      "---  ------  --------------  -----  \n",
      " 0   Color   3 non-null      object \n",
      " 1   Random  1 non-null      float64\n",
      "dtypes: float64(1), object(1)\n",
      "memory usage: 72.0+ bytes\n"
     ]
    }
   ],
   "source": [
    "df.info()"
   ]
  },
  {
   "cell_type": "code",
   "execution_count": null,
   "id": "9e26c280-0e70-4c46-93ec-98f419faa821",
   "metadata": {},
   "outputs": [],
   "source": []
  }
 ],
 "metadata": {
  "kernelspec": {
   "display_name": "Python 3 (ipykernel)",
   "language": "python",
   "name": "python3"
  },
  "language_info": {
   "codemirror_mode": {
    "name": "ipython",
    "version": 3
   },
   "file_extension": ".py",
   "mimetype": "text/x-python",
   "name": "python",
   "nbconvert_exporter": "python",
   "pygments_lexer": "ipython3",
   "version": "3.11.4"
  }
 },
 "nbformat": 4,
 "nbformat_minor": 5
}
