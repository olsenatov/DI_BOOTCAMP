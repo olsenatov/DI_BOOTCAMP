{
 "cells": [
  {
   "cell_type": "code",
   "execution_count": 1,
   "id": "06041247-cbee-4cb3-bff3-846efd6f2972",
   "metadata": {},
   "outputs": [],
   "source": [
    "import numpy as np"
   ]
  },
  {
   "cell_type": "code",
   "execution_count": 4,
   "id": "0f440a8e-fea6-483e-99e9-fff0706b9ac2",
   "metadata": {},
   "outputs": [],
   "source": [
    "#2.Create a vector* of zeros with size 10 using np.zeros(). [0. 0. 0. 0. 0. 0. 0. 0. 0. 0.]\n",
    "\n",
    "array_zero = np.zeros(10)"
   ]
  },
  {
   "cell_type": "code",
   "execution_count": 6,
   "id": "ca30b1d6-87e7-4f49-88b2-dc9f56089686",
   "metadata": {},
   "outputs": [
    {
     "data": {
      "text/plain": [
       "array([0., 0., 0., 0., 0., 0., 0., 0., 0., 0.])"
      ]
     },
     "execution_count": 6,
     "metadata": {},
     "output_type": "execute_result"
    }
   ],
   "source": [
    "array_zero"
   ]
  },
  {
   "cell_type": "code",
   "execution_count": 7,
   "id": "cb34c69e-e29b-4a0a-9264-60c6a2d5161a",
   "metadata": {},
   "outputs": [
    {
     "data": {
      "text/plain": [
       "8"
      ]
     },
     "execution_count": 7,
     "metadata": {},
     "output_type": "execute_result"
    }
   ],
   "source": [
    "#3 Compute the memory size* of any array. \n",
    "array_zero.itemsize"
   ]
  },
  {
   "cell_type": "code",
   "execution_count": 8,
   "id": "8480ae09-6380-473a-ac7f-f59707fa828a",
   "metadata": {},
   "outputs": [],
   "source": [
    "memory_size = array_zero.size * array_zero.itemsize"
   ]
  },
  {
   "cell_type": "code",
   "execution_count": 9,
   "id": "45ed156f-cf4a-4f3a-9810-392a6c318e90",
   "metadata": {},
   "outputs": [
    {
     "data": {
      "text/plain": [
       "80"
      ]
     },
     "execution_count": 9,
     "metadata": {},
     "output_type": "execute_result"
    }
   ],
   "source": [
    "memory_size"
   ]
  },
  {
   "cell_type": "code",
   "execution_count": 11,
   "id": "ff44adcf-6bf1-441b-a042-b6f929566dd3",
   "metadata": {},
   "outputs": [],
   "source": [
    "#5 Create a vector with values ranging from 10 to 49 using np.arange()\n",
    "my_vector = np.arange(10, 50)"
   ]
  },
  {
   "cell_type": "code",
   "execution_count": 12,
   "id": "c9624e5e-00f8-4f9b-a50d-aa5c3a4bf5b9",
   "metadata": {},
   "outputs": [
    {
     "data": {
      "text/plain": [
       "array([10, 11, 12, 13, 14, 15, 16, 17, 18, 19, 20, 21, 22, 23, 24, 25, 26,\n",
       "       27, 28, 29, 30, 31, 32, 33, 34, 35, 36, 37, 38, 39, 40, 41, 42, 43,\n",
       "       44, 45, 46, 47, 48, 49])"
      ]
     },
     "execution_count": 12,
     "metadata": {},
     "output_type": "execute_result"
    }
   ],
   "source": [
    "my_vector"
   ]
  },
  {
   "cell_type": "code",
   "execution_count": 13,
   "id": "b6d55ccf-cef1-4d29-8d4f-a5ecc0898903",
   "metadata": {},
   "outputs": [
    {
     "data": {
      "text/plain": [
       "array([49, 48, 47, 46, 45, 44, 43, 42, 41, 40, 39, 38, 37, 36, 35, 34, 33,\n",
       "       32, 31, 30, 29, 28, 27, 26, 25, 24, 23, 22, 21, 20, 19, 18, 17, 16,\n",
       "       15, 14, 13, 12, 11, 10])"
      ]
     },
     "execution_count": 13,
     "metadata": {},
     "output_type": "execute_result"
    }
   ],
   "source": [
    "#6 Reverse a vector so the first element becomes last\n",
    "my_vector[::-1]"
   ]
  },
  {
   "cell_type": "code",
   "execution_count": 14,
   "id": "c596178f-9ab5-4264-84c7-96e02d52f333",
   "metadata": {},
   "outputs": [],
   "source": [
    "#7 create a 3x3 matrix* with values ranging from 0 to 8\n",
    "my_array = np.arange(0,9)"
   ]
  },
  {
   "cell_type": "code",
   "execution_count": 15,
   "id": "d7266224-70e6-4ba5-9a65-768ca4656a6a",
   "metadata": {},
   "outputs": [],
   "source": [
    "my_matrix = my_array.reshape(3,3)"
   ]
  },
  {
   "cell_type": "code",
   "execution_count": 16,
   "id": "aa535fc1-d0fd-45fb-b9af-4cf26af9124f",
   "metadata": {},
   "outputs": [
    {
     "data": {
      "text/plain": [
       "array([[0, 1, 2],\n",
       "       [3, 4, 5],\n",
       "       [6, 7, 8]])"
      ]
     },
     "execution_count": 16,
     "metadata": {},
     "output_type": "execute_result"
    }
   ],
   "source": [
    "my_matrix"
   ]
  },
  {
   "cell_type": "code",
   "execution_count": 17,
   "id": "567f975e-ee27-4ab0-8521-96d568353c04",
   "metadata": {},
   "outputs": [],
   "source": [
    "#8 Find indices of non-zero elements from [1,2,0,0,4,0] using np.nonzero().\n",
    "\n",
    "array = np.array([1,2,0,0,4,0])"
   ]
  },
  {
   "cell_type": "code",
   "execution_count": 18,
   "id": "adc1ec58-dcaf-4952-8570-213d8b2881c9",
   "metadata": {},
   "outputs": [
    {
     "data": {
      "text/plain": [
       "(array([0, 1, 4]),)"
      ]
     },
     "execution_count": 18,
     "metadata": {},
     "output_type": "execute_result"
    }
   ],
   "source": [
    "np.nonzero(array)"
   ]
  },
  {
   "cell_type": "code",
   "execution_count": 19,
   "id": "27507fe1-39b0-4785-9919-78143cc5bcc8",
   "metadata": {},
   "outputs": [
    {
     "data": {
      "text/plain": [
       "array([[1., 0., 0.],\n",
       "       [0., 1., 0.],\n",
       "       [0., 0., 1.]])"
      ]
     },
     "execution_count": 19,
     "metadata": {},
     "output_type": "execute_result"
    }
   ],
   "source": [
    "#9 Create a 3x3 identity matrix* using np.eye().\n",
    "np.eye(3)"
   ]
  },
  {
   "cell_type": "code",
   "execution_count": 20,
   "id": "c1a0daf2-738b-4671-9454-51bf33b62562",
   "metadata": {},
   "outputs": [],
   "source": [
    "#10 Create a 5x5 matrix with row values ranging from 0 to 4. The output should be a matrix where each row is [0, 1, 2, 3, 4].\n",
    "my_array_rows = np.arange(5)"
   ]
  },
  {
   "cell_type": "code",
   "execution_count": 21,
   "id": "f4ec605d-044d-4248-b69b-93708d199661",
   "metadata": {},
   "outputs": [
    {
     "ename": "TypeError",
     "evalue": "tile() takes 2 positional arguments but 3 were given",
     "output_type": "error",
     "traceback": [
      "\u001b[0;31m---------------------------------------------------------------------------\u001b[0m",
      "\u001b[0;31mTypeError\u001b[0m                                 Traceback (most recent call last)",
      "Cell \u001b[0;32mIn[21], line 1\u001b[0m\n\u001b[0;32m----> 1\u001b[0m matrix_rows \u001b[38;5;241m=\u001b[39m \u001b[43mnp\u001b[49m\u001b[38;5;241;43m.\u001b[39;49m\u001b[43mtile\u001b[49m\u001b[43m(\u001b[49m\u001b[43mmy_array_rows\u001b[49m\u001b[43m,\u001b[49m\u001b[43m \u001b[49m\u001b[38;5;241;43m5\u001b[39;49m\u001b[43m,\u001b[49m\u001b[43m \u001b[49m\u001b[38;5;241;43m1\u001b[39;49m\u001b[43m)\u001b[49m\n",
      "\u001b[0;31mTypeError\u001b[0m: tile() takes 2 positional arguments but 3 were given"
     ]
    }
   ],
   "source": [
    "matrix_rows = np.tile(my_array_rows, (5, 1))"
   ]
  }
 ],
 "metadata": {
  "kernelspec": {
   "display_name": "Python 3 (ipykernel)",
   "language": "python",
   "name": "python3"
  },
  "language_info": {
   "codemirror_mode": {
    "name": "ipython",
    "version": 3
   },
   "file_extension": ".py",
   "mimetype": "text/x-python",
   "name": "python",
   "nbconvert_exporter": "python",
   "pygments_lexer": "ipython3",
   "version": "3.11.4"
  }
 },
 "nbformat": 4,
 "nbformat_minor": 5
}
