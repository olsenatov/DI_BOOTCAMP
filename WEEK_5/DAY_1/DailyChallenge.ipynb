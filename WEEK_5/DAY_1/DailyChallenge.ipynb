{
 "cells": [
  {
   "cell_type": "code",
   "execution_count": 3,
   "id": "8f75cfcc-887c-431e-be79-a7cb590c6e6f",
   "metadata": {},
   "outputs": [],
   "source": [
    "import numpy as np"
   ]
  },
  {
   "cell_type": "code",
   "execution_count": 17,
   "id": "c7da5556-fe0a-4ca7-8534-c5b149643a02",
   "metadata": {},
   "outputs": [],
   "source": [
    "data = np.array(np.random.randint(1, 100, size=25)).reshape(5,5)"
   ]
  },
  {
   "cell_type": "code",
   "execution_count": 18,
   "id": "0a8c1c93-1428-418e-8fa9-f9cbb88aaaff",
   "metadata": {},
   "outputs": [
    {
     "data": {
      "text/plain": [
       "array([[31, 78, 37, 80, 91],\n",
       "       [63, 11, 57, 13, 29],\n",
       "       [26, 35, 30, 93, 59],\n",
       "       [13, 87, 48, 21, 38],\n",
       "       [50, 31, 67, 23, 39]])"
      ]
     },
     "execution_count": 18,
     "metadata": {},
     "output_type": "execute_result"
    }
   ],
   "source": [
    "data"
   ]
  },
  {
   "cell_type": "code",
   "execution_count": 19,
   "id": "07c34c18-ef0a-4021-8753-cf26f1eec593",
   "metadata": {},
   "outputs": [],
   "source": [
    "#1 Swap the second and fourth rows of the data matrix\n",
    "data[1], data[3] = data[3].copy(), data[1].copy()"
   ]
  },
  {
   "cell_type": "code",
   "execution_count": 20,
   "id": "a14fe6bf-d527-42e2-ba39-6a5fd1ccddb1",
   "metadata": {},
   "outputs": [
    {
     "data": {
      "text/plain": [
       "array([[31, 78, 37, 80, 91],\n",
       "       [13, 87, 48, 21, 38],\n",
       "       [26, 35, 30, 93, 59],\n",
       "       [63, 11, 57, 13, 29],\n",
       "       [50, 31, 67, 23, 39]])"
      ]
     },
     "execution_count": 20,
     "metadata": {},
     "output_type": "execute_result"
    }
   ],
   "source": [
    "data"
   ]
  },
  {
   "cell_type": "code",
   "execution_count": 21,
   "id": "b9c9f18b-d8c0-4f3a-8063-fe56bb91c106",
   "metadata": {},
   "outputs": [],
   "source": [
    "#2 Normalize all the elements in the data matrix such that they are scaled to range between 0 and 1.\n",
    "min_val = data.min()"
   ]
  },
  {
   "cell_type": "code",
   "execution_count": 22,
   "id": "dad2e75c-cac4-4ff8-b08a-19e4ef9bf2f6",
   "metadata": {},
   "outputs": [
    {
     "data": {
      "text/plain": [
       "11"
      ]
     },
     "execution_count": 22,
     "metadata": {},
     "output_type": "execute_result"
    }
   ],
   "source": [
    "min_val"
   ]
  },
  {
   "cell_type": "code",
   "execution_count": 23,
   "id": "42f5ca30-2dd3-4256-8e3c-77f85ee3898a",
   "metadata": {},
   "outputs": [],
   "source": [
    "max_val = data.max()"
   ]
  },
  {
   "cell_type": "code",
   "execution_count": 25,
   "id": "5b860065-d5e7-43c7-80c5-f39e38c18fc3",
   "metadata": {},
   "outputs": [
    {
     "data": {
      "text/plain": [
       "93"
      ]
     },
     "execution_count": 25,
     "metadata": {},
     "output_type": "execute_result"
    }
   ],
   "source": [
    "max_val"
   ]
  },
  {
   "cell_type": "code",
   "execution_count": 26,
   "id": "625df9a6-7e20-4f82-ba56-87ed52091f91",
   "metadata": {},
   "outputs": [],
   "source": [
    "normalize = (data - min_val) / (max_val - min_val)"
   ]
  },
  {
   "cell_type": "code",
   "execution_count": 27,
   "id": "62e6dee5-6cdb-4417-a9d4-47b172b0fa47",
   "metadata": {},
   "outputs": [
    {
     "data": {
      "text/plain": [
       "array([[0.24390244, 0.81707317, 0.31707317, 0.84146341, 0.97560976],\n",
       "       [0.02439024, 0.92682927, 0.45121951, 0.12195122, 0.32926829],\n",
       "       [0.18292683, 0.29268293, 0.23170732, 1.        , 0.58536585],\n",
       "       [0.63414634, 0.        , 0.56097561, 0.02439024, 0.2195122 ],\n",
       "       [0.47560976, 0.24390244, 0.68292683, 0.14634146, 0.34146341]])"
      ]
     },
     "execution_count": 27,
     "metadata": {},
     "output_type": "execute_result"
    }
   ],
   "source": [
    "normalize"
   ]
  },
  {
   "cell_type": "code",
   "execution_count": 28,
   "id": "1ea98dc5-02e3-4734-84fa-5a2e75c7f55a",
   "metadata": {},
   "outputs": [],
   "source": [
    "#3 Standardize the data matrix using Z-score normalization. That is, all the elements should be scaled to have a mean* of 0 and a standard deviation of 1.\n",
    "mean_val = data.mean()"
   ]
  },
  {
   "cell_type": "code",
   "execution_count": 29,
   "id": "2df89e38-71cd-478c-ba52-aca94ecf0523",
   "metadata": {},
   "outputs": [
    {
     "data": {
      "text/plain": [
       "46.0"
      ]
     },
     "execution_count": 29,
     "metadata": {},
     "output_type": "execute_result"
    }
   ],
   "source": [
    "mean_val"
   ]
  },
  {
   "cell_type": "code",
   "execution_count": 30,
   "id": "4844e1bc-b4ca-461e-9a3e-07f4e3c17d34",
   "metadata": {},
   "outputs": [],
   "source": [
    "std_val = data.std()"
   ]
  },
  {
   "cell_type": "code",
   "execution_count": 31,
   "id": "92035ece-7e28-45d0-be81-d437e2082240",
   "metadata": {},
   "outputs": [
    {
     "data": {
      "text/plain": [
       "24.820958885586997"
      ]
     },
     "execution_count": 31,
     "metadata": {},
     "output_type": "execute_result"
    }
   ],
   "source": [
    "std_val"
   ]
  },
  {
   "cell_type": "code",
   "execution_count": 32,
   "id": "04a87508-bf56-44ef-b656-7864dec642af",
   "metadata": {},
   "outputs": [],
   "source": [
    "standardized = (data - mean_val) / std_val"
   ]
  },
  {
   "cell_type": "code",
   "execution_count": 33,
   "id": "13ec1a63-befc-47b1-a807-5a95c6645085",
   "metadata": {},
   "outputs": [
    {
     "data": {
      "text/plain": [
       "array([[-0.60432798,  1.28923303, -0.36259679,  1.36981009,  1.81298395],\n",
       "       [-1.32952156,  1.65182982,  0.08057706, -1.0072133 , -0.32230826],\n",
       "       [-0.80577064, -0.44317385, -0.64461651,  1.89356101,  0.52375092],\n",
       "       [ 0.68490505, -1.41009863,  0.44317385, -1.32952156, -0.68490505],\n",
       "       [ 0.16115413, -0.60432798,  0.84605918, -0.92663624, -0.28201973]])"
      ]
     },
     "execution_count": 33,
     "metadata": {},
     "output_type": "execute_result"
    }
   ],
   "source": [
    "standardized"
   ]
  },
  {
   "cell_type": "code",
   "execution_count": 34,
   "id": "b2c8fa07-8348-4a1e-8996-354ae2bc5e5a",
   "metadata": {},
   "outputs": [],
   "source": [
    "#4  Reshape the data matrix into a vector (Hint: use np.ravel) and split this array into five equal-sized sub-arrays.\n",
    "vector = np.ravel(data)"
   ]
  },
  {
   "cell_type": "code",
   "execution_count": 35,
   "id": "3af9fdd8-d418-442a-b87e-acdf0b526c4b",
   "metadata": {},
   "outputs": [],
   "source": [
    "sub_arrays = np.array_split(vector, 5)"
   ]
  },
  {
   "cell_type": "code",
   "execution_count": 36,
   "id": "683cb0f7-add5-4d50-9686-5b823b9b7042",
   "metadata": {},
   "outputs": [
    {
     "data": {
      "text/plain": [
       "[array([31, 78, 37, 80, 91]),\n",
       " array([13, 87, 48, 21, 38]),\n",
       " array([26, 35, 30, 93, 59]),\n",
       " array([63, 11, 57, 13, 29]),\n",
       " array([50, 31, 67, 23, 39])]"
      ]
     },
     "execution_count": 36,
     "metadata": {},
     "output_type": "execute_result"
    }
   ],
   "source": [
    "sub_arrays"
   ]
  },
  {
   "cell_type": "code",
   "execution_count": 37,
   "id": "ac67d1d6-85e4-4e2c-b581-b5586a7dfc95",
   "metadata": {},
   "outputs": [
    {
     "data": {
      "text/plain": [
       "array([31, 78, 37, 80, 91, 13, 87, 48, 21, 38, 26, 35, 30, 93, 59, 63, 11,\n",
       "       57, 13, 29, 50, 31, 67, 23, 39])"
      ]
     },
     "execution_count": 37,
     "metadata": {},
     "output_type": "execute_result"
    }
   ],
   "source": [
    "vector"
   ]
  },
  {
   "cell_type": "code",
   "execution_count": 38,
   "id": "e8f0333d-1bbe-4a81-8685-2054d261a494",
   "metadata": {},
   "outputs": [],
   "source": [
    "#5 Create two vectors of size 5 with any values. Compute the dot product of the two vectors\n",
    "vector1 = np.array([3, 5, 6, 7, 8])"
   ]
  },
  {
   "cell_type": "code",
   "execution_count": 39,
   "id": "7db5cbc9-e935-41ce-a191-a8bc10e5a36b",
   "metadata": {},
   "outputs": [],
   "source": [
    "vector2 = np.array([2, 4, 6, 8, 10])"
   ]
  },
  {
   "cell_type": "code",
   "execution_count": 40,
   "id": "b066660d-eacb-4d1e-9bb1-3f15e144a89b",
   "metadata": {},
   "outputs": [],
   "source": [
    "dot_product = np.dot(vector1, vector2)"
   ]
  },
  {
   "cell_type": "code",
   "execution_count": 41,
   "id": "d0137f02-7625-444e-a66e-109ead4c1bd8",
   "metadata": {},
   "outputs": [
    {
     "data": {
      "text/plain": [
       "198"
      ]
     },
     "execution_count": 41,
     "metadata": {},
     "output_type": "execute_result"
    }
   ],
   "source": [
    "dot_product"
   ]
  },
  {
   "cell_type": "code",
   "execution_count": 42,
   "id": "66ef7255-deaf-4a05-a762-e8395fa8209f",
   "metadata": {},
   "outputs": [],
   "source": [
    "#6 create another 3x3 matrix with any values (let’s call it data2). Perform matrix multiplication (dot product of data (first 3x3 part) and data2).\n",
    "data3 = np.array([[1, 2, 3],[4, 5, 6],[7, 8, 9]])\n"
   ]
  },
  {
   "cell_type": "code",
   "execution_count": 45,
   "id": "7e8efb52-d6d3-44c1-887f-f3fddab3d77c",
   "metadata": {},
   "outputs": [],
   "source": [
    "data4 = np.array([[9, 8, 7],[6, 5, 4],[3, 2, 1]])"
   ]
  },
  {
   "cell_type": "code",
   "execution_count": 46,
   "id": "94ecc411-b0b8-45ef-b1e5-2e72aecd15cd",
   "metadata": {},
   "outputs": [],
   "source": [
    "result = np.dot(data3, data4)"
   ]
  },
  {
   "cell_type": "code",
   "execution_count": 47,
   "id": "774d01fd-9c10-4b8a-8964-948ffde662a6",
   "metadata": {},
   "outputs": [
    {
     "data": {
      "text/plain": [
       "array([[ 30,  24,  18],\n",
       "       [ 84,  69,  54],\n",
       "       [138, 114,  90]])"
      ]
     },
     "execution_count": 47,
     "metadata": {},
     "output_type": "execute_result"
    }
   ],
   "source": [
    "result"
   ]
  },
  {
   "cell_type": "code",
   "execution_count": 48,
   "id": "a8e25322-b630-4be0-9d93-918c838e43b7",
   "metadata": {},
   "outputs": [],
   "source": [
    "#7 Create a 3x3 identity matrix*, multiply it with 2 and compute its inverse.\n",
    "identity_matrix = np.eye(3)"
   ]
  },
  {
   "cell_type": "code",
   "execution_count": 49,
   "id": "69939c4f-c179-4de9-bfdd-83398d0130d5",
   "metadata": {},
   "outputs": [],
   "source": [
    "scaled = 2 * identity_matrix"
   ]
  },
  {
   "cell_type": "code",
   "execution_count": 52,
   "id": "be9733e4-b9c0-495b-a984-9e9a17ee8e07",
   "metadata": {},
   "outputs": [],
   "source": [
    "inverse_matrix = np.linalg.inv(scaled)"
   ]
  },
  {
   "cell_type": "code",
   "execution_count": 53,
   "id": "30f8fe80-b14f-4ef3-961d-1af6c1fe6357",
   "metadata": {},
   "outputs": [
    {
     "data": {
      "text/plain": [
       "array([[0.5, 0. , 0. ],\n",
       "       [0. , 0.5, 0. ],\n",
       "       [0. , 0. , 0.5]])"
      ]
     },
     "execution_count": 53,
     "metadata": {},
     "output_type": "execute_result"
    }
   ],
   "source": [
    "inverse_matrix"
   ]
  },
  {
   "cell_type": "code",
   "execution_count": 54,
   "id": "d33ad7f7-deab-4cf4-bfb5-8243c7585f76",
   "metadata": {},
   "outputs": [],
   "source": [
    "#8 For the first 3x3 part of the data matrix, compute the eigenvalues and eigenvectors\n",
    "data_3x3 = data[:3, :3]\n"
   ]
  },
  {
   "cell_type": "code",
   "execution_count": 55,
   "id": "af6e048d-bdf2-4904-85a2-711a44eb81ec",
   "metadata": {},
   "outputs": [],
   "source": [
    "eigenvalues, eigenvectors = np.linalg.eig(data_3x3)"
   ]
  },
  {
   "cell_type": "code",
   "execution_count": 57,
   "id": "260d17f0-9de8-4ba5-9099-94e83c2c63c3",
   "metadata": {},
   "outputs": [
    {
     "data": {
      "text/plain": [
       "array([129.83503947 +0.j        ,   9.08248027+11.83470257j,\n",
       "         9.08248027-11.83470257j])"
      ]
     },
     "execution_count": 57,
     "metadata": {},
     "output_type": "execute_result"
    }
   ],
   "source": [
    "eigenvalues"
   ]
  },
  {
   "cell_type": "code",
   "execution_count": 58,
   "id": "1b239451-5777-4029-9bd6-aac55860bc49",
   "metadata": {},
   "outputs": [
    {
     "data": {
      "text/plain": [
       "array([[ 0.65562172+0.j        , -0.01717073+0.53274065j,\n",
       "        -0.01717073-0.53274065j],\n",
       "       [ 0.64284927+0.j        , -0.41753258-0.15230211j,\n",
       "        -0.41753258+0.15230211j],\n",
       "       [ 0.39611232+0.j        ,  0.71997443+0.j        ,\n",
       "         0.71997443-0.j        ]])"
      ]
     },
     "execution_count": 58,
     "metadata": {},
     "output_type": "execute_result"
    }
   ],
   "source": [
    "eigenvectors"
   ]
  },
  {
   "cell_type": "code",
   "execution_count": 59,
   "id": "ec8fcc93-056c-4bf8-99ef-42f3528a65e4",
   "metadata": {},
   "outputs": [],
   "source": [
    "#9 Replace random 5 elements in the data matrix with np.nan. Find the indices of the missing values.\n",
    "nan_indices = np.random.choice(data.size, 5, replace=False)"
   ]
  },
  {
   "cell_type": "code",
   "execution_count": 60,
   "id": "13f87c4a-ad76-48fd-bf34-599a09c7cb7f",
   "metadata": {},
   "outputs": [
    {
     "data": {
      "text/plain": [
       "array([ 7,  2,  8, 24, 10])"
      ]
     },
     "execution_count": 60,
     "metadata": {},
     "output_type": "execute_result"
    }
   ],
   "source": [
    "nan_indices"
   ]
  },
  {
   "cell_type": "code",
   "execution_count": 62,
   "id": "569a1473-80d5-4c4f-a138-61dd9dbf7ec7",
   "metadata": {},
   "outputs": [
    {
     "ename": "ValueError",
     "evalue": "cannot convert float NaN to integer",
     "output_type": "error",
     "traceback": [
      "\u001b[0;31m---------------------------------------------------------------------------\u001b[0m",
      "\u001b[0;31mValueError\u001b[0m                                Traceback (most recent call last)",
      "Cell \u001b[0;32mIn[62], line 1\u001b[0m\n\u001b[0;32m----> 1\u001b[0m \u001b[43mdata\u001b[49m\u001b[38;5;241;43m.\u001b[39;49m\u001b[43mravel\u001b[49m\u001b[43m(\u001b[49m\u001b[43m)\u001b[49m\u001b[43m[\u001b[49m\u001b[43mnan_indices\u001b[49m\u001b[43m]\u001b[49m \u001b[38;5;241m=\u001b[39m np\u001b[38;5;241m.\u001b[39mnan\n",
      "\u001b[0;31mValueError\u001b[0m: cannot convert float NaN to integer"
     ]
    }
   ],
   "source": [
    "data.ravel()[nan_indices] = np.nan"
   ]
  },
  {
   "cell_type": "code",
   "execution_count": null,
   "id": "3db5fc6a-af83-46b1-8455-7ccc9d7ac952",
   "metadata": {},
   "outputs": [],
   "source": [
    "# Encountered ValueError and couldn't proceed with the other parts of this exercise:\n",
    "#Traceback (most recent call last)\n",
    "#Cell In[62], line 1\n",
    "#----> 1 data.ravel()[nan_indices] = np.nan"
   ]
  }
 ],
 "metadata": {
  "kernelspec": {
   "display_name": "Python 3 (ipykernel)",
   "language": "python",
   "name": "python3"
  },
  "language_info": {
   "codemirror_mode": {
    "name": "ipython",
    "version": 3
   },
   "file_extension": ".py",
   "mimetype": "text/x-python",
   "name": "python",
   "nbconvert_exporter": "python",
   "pygments_lexer": "ipython3",
   "version": "3.11.4"
  }
 },
 "nbformat": 4,
 "nbformat_minor": 5
}
