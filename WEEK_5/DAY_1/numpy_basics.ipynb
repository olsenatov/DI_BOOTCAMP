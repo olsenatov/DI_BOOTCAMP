{
 "cells": [
  {
   "cell_type": "markdown",
   "id": "f4c9d2ac-185b-4ee3-a389-58a25f887b4a",
   "metadata": {},
   "source": [
    "# Intro"
   ]
  },
  {
   "cell_type": "code",
   "execution_count": null,
   "id": "5d0dabc6-fbb5-4ab6-989e-4c425b62f753",
   "metadata": {},
   "outputs": [],
   "source": []
  },
  {
   "cell_type": "code",
   "execution_count": 1,
   "id": "051b4faf-436b-48c6-b07f-f4bc9e86defa",
   "metadata": {},
   "outputs": [],
   "source": [
    "import numpy as np #numerical python"
   ]
  },
  {
   "cell_type": "code",
   "execution_count": 2,
   "id": "2e1c0b53-024e-46af-b479-9f2d21f96f16",
   "metadata": {},
   "outputs": [
    {
     "data": {
      "text/plain": [
       "3"
      ]
     },
     "execution_count": 2,
     "metadata": {},
     "output_type": "execute_result"
    }
   ],
   "source": [
    "1 + 2"
   ]
  },
  {
   "cell_type": "markdown",
   "id": "f047116f-2a90-4229-863c-7d8f82bc2d60",
   "metadata": {},
   "source": [
    "# header"
   ]
  },
  {
   "cell_type": "code",
   "execution_count": 8,
   "id": "11ee5b29-cd4b-4f22-a31b-67a8c91d65ea",
   "metadata": {},
   "outputs": [],
   "source": [
    "array = np.array([1,2,3,4,5])"
   ]
  },
  {
   "cell_type": "code",
   "execution_count": 9,
   "id": "46ad9c9c-0b2a-4b09-89aa-d8fdaaec5b0b",
   "metadata": {},
   "outputs": [
    {
     "data": {
      "text/plain": [
       "array([1, 2, 3, 4, 5])"
      ]
     },
     "execution_count": 9,
     "metadata": {},
     "output_type": "execute_result"
    }
   ],
   "source": [
    "array"
   ]
  },
  {
   "cell_type": "code",
   "execution_count": 10,
   "id": "12be374d-2879-4045-bb4e-85c1c3529d4c",
   "metadata": {},
   "outputs": [],
   "source": [
    "array2 = np.array([1,2,3,4,5])"
   ]
  },
  {
   "cell_type": "code",
   "execution_count": 11,
   "id": "93d7d4b2-d09b-40c0-9ee2-884275d9f4ea",
   "metadata": {},
   "outputs": [
    {
     "data": {
      "text/plain": [
       "array([ 1,  4,  9, 16, 25])"
      ]
     },
     "execution_count": 11,
     "metadata": {},
     "output_type": "execute_result"
    }
   ],
   "source": [
    "array * array2"
   ]
  },
  {
   "cell_type": "markdown",
   "id": "f7af0dd2-6cf1-4aaf-b40a-ca6351673745",
   "metadata": {},
   "source": [
    "# Array attributes"
   ]
  },
  {
   "cell_type": "code",
   "execution_count": 12,
   "id": "3fa89ee0-b30d-42c9-bbd4-7ac2c4cf7c6c",
   "metadata": {},
   "outputs": [
    {
     "data": {
      "text/plain": [
       "1"
      ]
     },
     "execution_count": 12,
     "metadata": {},
     "output_type": "execute_result"
    }
   ],
   "source": [
    "array.ndim #number of dimensions - how many lines of numbers (x (axes - columns) - one dim, y (axes - rows) - 2d)"
   ]
  },
  {
   "cell_type": "code",
   "execution_count": 15,
   "id": "8fa176b8-d8f4-4ff3-bdbf-6ae291e919e0",
   "metadata": {},
   "outputs": [],
   "source": [
    "two_dim_array = np.array([[1,2,3,4,5], [1,2,3,4,5], [1,2,3,4,5]]) #amount of [] says how many dimensions"
   ]
  },
  {
   "cell_type": "code",
   "execution_count": 16,
   "id": "8456007a-fa8a-498f-b45e-7472529e88f2",
   "metadata": {},
   "outputs": [
    {
     "data": {
      "text/plain": [
       "array([[1, 2, 3, 4, 5],\n",
       "       [1, 2, 3, 4, 5],\n",
       "       [1, 2, 3, 4, 5]])"
      ]
     },
     "execution_count": 16,
     "metadata": {},
     "output_type": "execute_result"
    }
   ],
   "source": [
    "two_dim_array"
   ]
  },
  {
   "cell_type": "code",
   "execution_count": 17,
   "id": "0942a1b5-97f4-4c51-8ee2-b802cb0925e9",
   "metadata": {},
   "outputs": [
    {
     "data": {
      "text/plain": [
       "2"
      ]
     },
     "execution_count": 17,
     "metadata": {},
     "output_type": "execute_result"
    }
   ],
   "source": [
    "two_dim_array.ndim"
   ]
  },
  {
   "cell_type": "code",
   "execution_count": 18,
   "id": "316f0c3a-2d8f-4559-b768-b63448b6ad82",
   "metadata": {},
   "outputs": [
    {
     "data": {
      "text/plain": [
       "(5,)"
      ]
     },
     "execution_count": 18,
     "metadata": {},
     "output_type": "execute_result"
    }
   ],
   "source": [
    "#shape - amount of rows/columns etc.\n",
    "array.shape"
   ]
  },
  {
   "cell_type": "code",
   "execution_count": 19,
   "id": "324d2bae-7aa3-407d-bc9e-5b563b061dc8",
   "metadata": {},
   "outputs": [
    {
     "data": {
      "text/plain": [
       "(3, 5)"
      ]
     },
     "execution_count": 19,
     "metadata": {},
     "output_type": "execute_result"
    }
   ],
   "source": [
    "two_dim_array.shape"
   ]
  },
  {
   "cell_type": "code",
   "execution_count": 20,
   "id": "f2efba23-c5e4-4957-b8e3-876ab64c5113",
   "metadata": {},
   "outputs": [
    {
     "data": {
      "text/plain": [
       "15"
      ]
     },
     "execution_count": 20,
     "metadata": {},
     "output_type": "execute_result"
    }
   ],
   "source": [
    "two_dim_array.size"
   ]
  },
  {
   "cell_type": "code",
   "execution_count": 21,
   "id": "3e0396eb-70ea-4f25-b161-e86ae9ea4eca",
   "metadata": {},
   "outputs": [
    {
     "data": {
      "text/plain": [
       "dtype('int64')"
      ]
     },
     "execution_count": 21,
     "metadata": {},
     "output_type": "execute_result"
    }
   ],
   "source": [
    "#data type\n",
    "two_dim_array.dtype"
   ]
  },
  {
   "cell_type": "markdown",
   "id": "ae1c6bd9-4b2a-4449-b9bb-bbfccdb0b269",
   "metadata": {},
   "source": [
    "# Converting from one type to another"
   ]
  },
  {
   "cell_type": "code",
   "execution_count": 22,
   "id": "f0256544-1148-47c7-a5cf-1ed9dfd3443e",
   "metadata": {},
   "outputs": [],
   "source": [
    "float_array = array.astype('float16')"
   ]
  },
  {
   "cell_type": "code",
   "execution_count": 23,
   "id": "1a7687cf-a84f-4804-899d-4d470760c0e5",
   "metadata": {},
   "outputs": [
    {
     "data": {
      "text/plain": [
       "dtype('float16')"
      ]
     },
     "execution_count": 23,
     "metadata": {},
     "output_type": "execute_result"
    }
   ],
   "source": [
    "float_array.dtype"
   ]
  },
  {
   "cell_type": "code",
   "execution_count": 24,
   "id": "43a763b0-13fe-4940-a4c4-7240f9469c29",
   "metadata": {},
   "outputs": [
    {
     "data": {
      "text/plain": [
       "array([1., 2., 3., 4., 5.], dtype=float16)"
      ]
     },
     "execution_count": 24,
     "metadata": {},
     "output_type": "execute_result"
    }
   ],
   "source": [
    "float_array"
   ]
  },
  {
   "cell_type": "markdown",
   "id": "bd2ec1aa-2f77-4314-aee4-605e952c9452",
   "metadata": {},
   "source": [
    "# Creating array"
   ]
  },
  {
   "cell_type": "code",
   "execution_count": 25,
   "id": "119c616e-3a48-487a-902b-3a1cbad7032c",
   "metadata": {},
   "outputs": [],
   "source": [
    "my_array = np.arange(1, 10)"
   ]
  },
  {
   "cell_type": "code",
   "execution_count": 26,
   "id": "71df2dd7-aa8d-4977-92c0-4a3064184e20",
   "metadata": {},
   "outputs": [
    {
     "data": {
      "text/plain": [
       "array([1, 2, 3, 4, 5, 6, 7, 8, 9])"
      ]
     },
     "execution_count": 26,
     "metadata": {},
     "output_type": "execute_result"
    }
   ],
   "source": [
    "my_array"
   ]
  },
  {
   "cell_type": "markdown",
   "id": "bc4e6927-ee67-4371-a44c-c8e279913014",
   "metadata": {},
   "source": [
    "### Exercise"
   ]
  },
  {
   "cell_type": "code",
   "execution_count": 30,
   "id": "2c00a11e-f628-432c-9788-033c7bfcdcd8",
   "metadata": {},
   "outputs": [],
   "source": [
    "array_new = np.arange(10, 21)"
   ]
  },
  {
   "cell_type": "code",
   "execution_count": 31,
   "id": "3deb85ea-d462-407a-b50e-ed190c13a4ce",
   "metadata": {},
   "outputs": [
    {
     "data": {
      "text/plain": [
       "array([10, 11, 12, 13, 14, 15, 16, 17, 18, 19, 20])"
      ]
     },
     "execution_count": 31,
     "metadata": {},
     "output_type": "execute_result"
    }
   ],
   "source": [
    "array_new"
   ]
  },
  {
   "cell_type": "code",
   "execution_count": 32,
   "id": "55ebb01f-9395-40b4-8374-6f5eba1c89e7",
   "metadata": {},
   "outputs": [
    {
     "data": {
      "text/plain": [
       "1"
      ]
     },
     "execution_count": 32,
     "metadata": {},
     "output_type": "execute_result"
    }
   ],
   "source": [
    "array_new.ndim"
   ]
  },
  {
   "cell_type": "code",
   "execution_count": 33,
   "id": "5870c66e-97c1-418a-8b6d-92e6dfc618d8",
   "metadata": {},
   "outputs": [
    {
     "data": {
      "text/plain": [
       "(11,)"
      ]
     },
     "execution_count": 33,
     "metadata": {},
     "output_type": "execute_result"
    }
   ],
   "source": [
    "array_new.shape"
   ]
  },
  {
   "cell_type": "code",
   "execution_count": 34,
   "id": "d2b571ee-3546-442b-83d4-51dcf1f6f8aa",
   "metadata": {},
   "outputs": [
    {
     "data": {
      "text/plain": [
       "11"
      ]
     },
     "execution_count": 34,
     "metadata": {},
     "output_type": "execute_result"
    }
   ],
   "source": [
    "array_new.size"
   ]
  },
  {
   "cell_type": "code",
   "execution_count": 35,
   "id": "57393f98-cf2b-45cd-9aa6-707ae268828e",
   "metadata": {},
   "outputs": [
    {
     "data": {
      "text/plain": [
       "dtype('int64')"
      ]
     },
     "execution_count": 35,
     "metadata": {},
     "output_type": "execute_result"
    }
   ],
   "source": [
    "array_new.dtype"
   ]
  },
  {
   "cell_type": "code",
   "execution_count": 36,
   "id": "e1ecff51-9db4-4f00-b32f-900d18c8dbdf",
   "metadata": {},
   "outputs": [],
   "source": [
    "float_array_new = np.arange(10.0, 21.0)  #or make it (10, 21, dtype = 'float16')"
   ]
  },
  {
   "cell_type": "code",
   "execution_count": 37,
   "id": "b4ad28c5-ee8e-4a46-9b9e-daad69eda066",
   "metadata": {},
   "outputs": [
    {
     "data": {
      "text/plain": [
       "array([10., 11., 12., 13., 14., 15., 16., 17., 18., 19., 20.])"
      ]
     },
     "execution_count": 37,
     "metadata": {},
     "output_type": "execute_result"
    }
   ],
   "source": [
    "float_array_new"
   ]
  },
  {
   "cell_type": "code",
   "execution_count": 38,
   "id": "17f47168-4160-456c-bfe9-12dd6129423e",
   "metadata": {},
   "outputs": [
    {
     "data": {
      "text/plain": [
       "dtype('float64')"
      ]
     },
     "execution_count": 38,
     "metadata": {},
     "output_type": "execute_result"
    }
   ],
   "source": [
    "float_array_new.dtype"
   ]
  },
  {
   "cell_type": "code",
   "execution_count": 39,
   "id": "1e98287d-9c75-4738-905e-7bb54b6cb8a5",
   "metadata": {},
   "outputs": [],
   "source": [
    "int_array_new = float_array_new.astype('int64')"
   ]
  },
  {
   "cell_type": "code",
   "execution_count": 40,
   "id": "0879a44c-69d6-481a-b495-0ddd7639c70f",
   "metadata": {},
   "outputs": [
    {
     "data": {
      "text/plain": [
       "dtype('int64')"
      ]
     },
     "execution_count": 40,
     "metadata": {},
     "output_type": "execute_result"
    }
   ],
   "source": [
    "int_array_new.dtype"
   ]
  },
  {
   "cell_type": "code",
   "execution_count": 41,
   "id": "c8108842-4b59-4b9d-863d-f37e055908f9",
   "metadata": {},
   "outputs": [
    {
     "data": {
      "text/plain": [
       "array([20, 22, 24, 26, 28, 30, 32, 34, 36, 38, 40])"
      ]
     },
     "execution_count": 41,
     "metadata": {},
     "output_type": "execute_result"
    }
   ],
   "source": [
    "int_array_new * 2"
   ]
  },
  {
   "cell_type": "markdown",
   "id": "4f49ed22-af60-48f3-a2ad-cfa7f36d3744",
   "metadata": {},
   "source": [
    "# INDEXING - one dimension"
   ]
  },
  {
   "cell_type": "code",
   "execution_count": 42,
   "id": "6c4cbfb3-951d-43aa-a252-c9c991b2d48a",
   "metadata": {},
   "outputs": [],
   "source": [
    "one_dim_array = np.arange(11)"
   ]
  },
  {
   "cell_type": "code",
   "execution_count": 43,
   "id": "18ca5601-34a8-4e81-88fb-7705dbb91b11",
   "metadata": {},
   "outputs": [
    {
     "data": {
      "text/plain": [
       "array([ 0,  1,  2,  3,  4,  5,  6,  7,  8,  9, 10])"
      ]
     },
     "execution_count": 43,
     "metadata": {},
     "output_type": "execute_result"
    }
   ],
   "source": [
    "one_dim_array"
   ]
  },
  {
   "cell_type": "code",
   "execution_count": 44,
   "id": "aaab823c-65d7-4e9f-9b02-14609a9abb0f",
   "metadata": {},
   "outputs": [
    {
     "data": {
      "text/plain": [
       "1"
      ]
     },
     "execution_count": 44,
     "metadata": {},
     "output_type": "execute_result"
    }
   ],
   "source": [
    "one_dim_array[1] #second"
   ]
  },
  {
   "cell_type": "code",
   "execution_count": 45,
   "id": "55e67cb8-651d-400b-ae9b-6adbb28b1e45",
   "metadata": {},
   "outputs": [
    {
     "data": {
      "text/plain": [
       "0"
      ]
     },
     "execution_count": 45,
     "metadata": {},
     "output_type": "execute_result"
    }
   ],
   "source": [
    "one_dim_array[0] #first"
   ]
  },
  {
   "cell_type": "code",
   "execution_count": 46,
   "id": "0b63d630-00c1-4449-ae14-95b84c1333f3",
   "metadata": {},
   "outputs": [
    {
     "data": {
      "text/plain": [
       "10"
      ]
     },
     "execution_count": 46,
     "metadata": {},
     "output_type": "execute_result"
    }
   ],
   "source": [
    "one_dim_array[-1]"
   ]
  },
  {
   "cell_type": "code",
   "execution_count": 48,
   "id": "8768520d-389c-4b90-a141-0183ecad4bb1",
   "metadata": {},
   "outputs": [
    {
     "data": {
      "text/plain": [
       "array([1, 2, 3, 4])"
      ]
     },
     "execution_count": 48,
     "metadata": {},
     "output_type": "execute_result"
    }
   ],
   "source": [
    "one_dim_array[1:5]"
   ]
  },
  {
   "cell_type": "code",
   "execution_count": 49,
   "id": "3b350d27-153e-4826-aa9f-8cf16b6c47ca",
   "metadata": {},
   "outputs": [
    {
     "data": {
      "text/plain": [
       "array([ 2,  4,  6,  8, 10])"
      ]
     },
     "execution_count": 49,
     "metadata": {},
     "output_type": "execute_result"
    }
   ],
   "source": [
    "one_dim_array[2::2] #only devided by two"
   ]
  },
  {
   "cell_type": "markdown",
   "id": "324eb9d9-6797-4566-9daa-9ff34fbae8ab",
   "metadata": {},
   "source": [
    "# INDEXING - two dimension"
   ]
  },
  {
   "cell_type": "code",
   "execution_count": 50,
   "id": "8a391aa1-7e9b-40be-8bdc-45cf7b1614b8",
   "metadata": {},
   "outputs": [],
   "source": [
    "two_dim_array = np.arange(10)"
   ]
  },
  {
   "cell_type": "code",
   "execution_count": 51,
   "id": "da471d95-e633-42ac-885e-40b047c4fe4f",
   "metadata": {},
   "outputs": [
    {
     "data": {
      "text/plain": [
       "array([0, 1, 2, 3, 4, 5, 6, 7, 8, 9])"
      ]
     },
     "execution_count": 51,
     "metadata": {},
     "output_type": "execute_result"
    }
   ],
   "source": [
    "two_dim_array"
   ]
  },
  {
   "cell_type": "code",
   "execution_count": 52,
   "id": "05a52d38-988a-4845-a498-6896f40efc14",
   "metadata": {},
   "outputs": [
    {
     "data": {
      "text/plain": [
       "10"
      ]
     },
     "execution_count": 52,
     "metadata": {},
     "output_type": "execute_result"
    }
   ],
   "source": [
    "two_dim_array.size"
   ]
  },
  {
   "cell_type": "code",
   "execution_count": 53,
   "id": "6d9e0c0b-65ff-4a78-9d33-28b6141c518d",
   "metadata": {},
   "outputs": [
    {
     "data": {
      "text/plain": [
       "array([[0, 1, 2, 3, 4],\n",
       "       [5, 6, 7, 8, 9]])"
      ]
     },
     "execution_count": 53,
     "metadata": {},
     "output_type": "execute_result"
    }
   ],
   "source": [
    "two_dim_array.reshape((2,5))"
   ]
  },
  {
   "cell_type": "code",
   "execution_count": 57,
   "id": "726d6aa2-80de-438b-8dba-03cfff434fd7",
   "metadata": {},
   "outputs": [],
   "source": [
    "two_dim_array = two_dim_array.reshape((5,2))"
   ]
  },
  {
   "cell_type": "code",
   "execution_count": 58,
   "id": "5469f3a5-65bb-4546-a468-f18a4a45b9b9",
   "metadata": {},
   "outputs": [
    {
     "data": {
      "text/plain": [
       "array([2, 3])"
      ]
     },
     "execution_count": 58,
     "metadata": {},
     "output_type": "execute_result"
    }
   ],
   "source": [
    "two_dim_array[1] #second row"
   ]
  },
  {
   "cell_type": "code",
   "execution_count": 59,
   "id": "99ff9a23-2c4c-426b-8c25-f206396b4a7f",
   "metadata": {},
   "outputs": [
    {
     "data": {
      "text/plain": [
       "array([[2, 3],\n",
       "       [4, 5]])"
      ]
     },
     "execution_count": 59,
     "metadata": {},
     "output_type": "execute_result"
    }
   ],
   "source": [
    "two_dim_array[1:3] #index through rows"
   ]
  },
  {
   "cell_type": "code",
   "execution_count": 60,
   "id": "c3188c2a-a433-4562-8972-fdf1f3e8301f",
   "metadata": {},
   "outputs": [
    {
     "data": {
      "text/plain": [
       "array([2, 4])"
      ]
     },
     "execution_count": 60,
     "metadata": {},
     "output_type": "execute_result"
    }
   ],
   "source": [
    "two_dim_array[1:3, 0] #index through rows + taking first 1ST item"
   ]
  },
  {
   "cell_type": "code",
   "execution_count": 61,
   "id": "f3319131-1d47-46de-ac3b-61ba06b29038",
   "metadata": {},
   "outputs": [
    {
     "data": {
      "text/plain": [
       "array([[8, 9],\n",
       "       [6, 7],\n",
       "       [4, 5],\n",
       "       [2, 3],\n",
       "       [0, 1]])"
      ]
     },
     "execution_count": 61,
     "metadata": {},
     "output_type": "execute_result"
    }
   ],
   "source": [
    "two_dim_array[::-1] #reversing the array"
   ]
  },
  {
   "cell_type": "markdown",
   "id": "d9e02762-c575-4d23-aaa4-27c6ade39922",
   "metadata": {},
   "source": [
    "### Exercise 2"
   ]
  },
  {
   "cell_type": "code",
   "execution_count": 64,
   "id": "b58147b4-6800-47a0-9c34-6f7853ca6931",
   "metadata": {},
   "outputs": [],
   "source": [
    "my_int_array = np.arange(10, 21)"
   ]
  },
  {
   "cell_type": "code",
   "execution_count": 65,
   "id": "cb8bc901-5aa2-4319-9f30-4d9b51f18241",
   "metadata": {},
   "outputs": [
    {
     "data": {
      "text/plain": [
       "13"
      ]
     },
     "execution_count": 65,
     "metadata": {},
     "output_type": "execute_result"
    }
   ],
   "source": [
    "my_int_array[3]"
   ]
  },
  {
   "cell_type": "code",
   "execution_count": 66,
   "id": "9eeb8c92-c2c2-4746-8a3c-4c01837cfed6",
   "metadata": {},
   "outputs": [],
   "source": [
    "my_2d_array = np.array([[1, 2, 3], [4, 5, 6], [7, 8, 9]])"
   ]
  },
  {
   "cell_type": "code",
   "execution_count": 69,
   "id": "a9187f42-e8e2-4caa-889a-69383e600c64",
   "metadata": {},
   "outputs": [
    {
     "data": {
      "text/plain": [
       "6"
      ]
     },
     "execution_count": 69,
     "metadata": {},
     "output_type": "execute_result"
    }
   ],
   "source": [
    "my_2d_array[1][2]"
   ]
  },
  {
   "cell_type": "code",
   "execution_count": 72,
   "id": "e18faa59-ab05-48e1-a87f-623dee12175f",
   "metadata": {},
   "outputs": [],
   "source": [
    "my_1d_array = np.arange(10)"
   ]
  },
  {
   "cell_type": "code",
   "execution_count": 73,
   "id": "09a2e43f-85fb-45d2-a109-c14c99845e39",
   "metadata": {},
   "outputs": [
    {
     "data": {
      "text/plain": [
       "array([2, 3, 4, 5])"
      ]
     },
     "execution_count": 73,
     "metadata": {},
     "output_type": "execute_result"
    }
   ],
   "source": [
    "my_1d_array[2:6]"
   ]
  },
  {
   "cell_type": "code",
   "execution_count": 74,
   "id": "8d73b291-1a30-49e0-9093-5d276cc90f4e",
   "metadata": {},
   "outputs": [],
   "source": [
    "my_2d_new_array = np.array([[1, 2, 3], [4, 5, 6], [7, 8, 9]])"
   ]
  },
  {
   "cell_type": "code",
   "execution_count": 79,
   "id": "24ba7aa0-398e-4206-9066-2769424e6dd2",
   "metadata": {},
   "outputs": [
    {
     "data": {
      "text/plain": [
       "array([[2, 3],\n",
       "       [5, 6]])"
      ]
     },
     "execution_count": 79,
     "metadata": {},
     "output_type": "execute_result"
    }
   ],
   "source": [
    "my_2d_new_array[:2, 1:]"
   ]
  },
  {
   "cell_type": "markdown",
   "id": "2f354851-1339-4e13-9bfd-514f4ae1a6f3",
   "metadata": {},
   "source": [
    "# Generation ARANGE"
   ]
  },
  {
   "cell_type": "code",
   "execution_count": 80,
   "id": "5760fdfa-5159-4f48-a157-64aa2a50ddd3",
   "metadata": {},
   "outputs": [],
   "source": [
    "array = np.arange(1,100)"
   ]
  },
  {
   "cell_type": "code",
   "execution_count": 82,
   "id": "a2fa66e7-af8f-4f04-a87f-2885b4c70bbd",
   "metadata": {},
   "outputs": [],
   "source": [
    "array_decimal = np.arange (0, 10, 0.1)"
   ]
  },
  {
   "cell_type": "code",
   "execution_count": 83,
   "id": "09b801b7-9bb1-416a-b6bc-f918153b3dbc",
   "metadata": {},
   "outputs": [
    {
     "data": {
      "text/plain": [
       "array([0. , 0.1, 0.2, 0.3, 0.4, 0.5, 0.6, 0.7, 0.8, 0.9, 1. , 1.1, 1.2,\n",
       "       1.3, 1.4, 1.5, 1.6, 1.7, 1.8, 1.9, 2. , 2.1, 2.2, 2.3, 2.4, 2.5,\n",
       "       2.6, 2.7, 2.8, 2.9, 3. , 3.1, 3.2, 3.3, 3.4, 3.5, 3.6, 3.7, 3.8,\n",
       "       3.9, 4. , 4.1, 4.2, 4.3, 4.4, 4.5, 4.6, 4.7, 4.8, 4.9, 5. , 5.1,\n",
       "       5.2, 5.3, 5.4, 5.5, 5.6, 5.7, 5.8, 5.9, 6. , 6.1, 6.2, 6.3, 6.4,\n",
       "       6.5, 6.6, 6.7, 6.8, 6.9, 7. , 7.1, 7.2, 7.3, 7.4, 7.5, 7.6, 7.7,\n",
       "       7.8, 7.9, 8. , 8.1, 8.2, 8.3, 8.4, 8.5, 8.6, 8.7, 8.8, 8.9, 9. ,\n",
       "       9.1, 9.2, 9.3, 9.4, 9.5, 9.6, 9.7, 9.8, 9.9])"
      ]
     },
     "execution_count": 83,
     "metadata": {},
     "output_type": "execute_result"
    }
   ],
   "source": [
    "array_decimal"
   ]
  },
  {
   "cell_type": "code",
   "execution_count": 84,
   "id": "2d6e15fd-9591-4ca4-8d3b-d39bb69cb3d9",
   "metadata": {},
   "outputs": [
    {
     "data": {
      "text/plain": [
       "array([[0. , 0.1, 0.2, 0.3, 0.4, 0.5, 0.6, 0.7, 0.8, 0.9],\n",
       "       [1. , 1.1, 1.2, 1.3, 1.4, 1.5, 1.6, 1.7, 1.8, 1.9],\n",
       "       [2. , 2.1, 2.2, 2.3, 2.4, 2.5, 2.6, 2.7, 2.8, 2.9],\n",
       "       [3. , 3.1, 3.2, 3.3, 3.4, 3.5, 3.6, 3.7, 3.8, 3.9],\n",
       "       [4. , 4.1, 4.2, 4.3, 4.4, 4.5, 4.6, 4.7, 4.8, 4.9],\n",
       "       [5. , 5.1, 5.2, 5.3, 5.4, 5.5, 5.6, 5.7, 5.8, 5.9],\n",
       "       [6. , 6.1, 6.2, 6.3, 6.4, 6.5, 6.6, 6.7, 6.8, 6.9],\n",
       "       [7. , 7.1, 7.2, 7.3, 7.4, 7.5, 7.6, 7.7, 7.8, 7.9],\n",
       "       [8. , 8.1, 8.2, 8.3, 8.4, 8.5, 8.6, 8.7, 8.8, 8.9],\n",
       "       [9. , 9.1, 9.2, 9.3, 9.4, 9.5, 9.6, 9.7, 9.8, 9.9]])"
      ]
     },
     "execution_count": 84,
     "metadata": {},
     "output_type": "execute_result"
    }
   ],
   "source": [
    "array_decimal.reshape(10, 10)"
   ]
  },
  {
   "cell_type": "markdown",
   "id": "438e308f-620b-4d7c-b22b-ad7f56b29252",
   "metadata": {},
   "source": [
    "# Generation LINSPACE"
   ]
  },
  {
   "cell_type": "code",
   "execution_count": 87,
   "id": "c8951612-8384-4304-859d-a4d40b2a799b",
   "metadata": {},
   "outputs": [],
   "source": [
    "lin_array = np.linspace(0, 5, 100) #create specific number of items at a specific range"
   ]
  },
  {
   "cell_type": "code",
   "execution_count": 88,
   "id": "3454d904-5db6-4776-9e03-d3783e6c7fe9",
   "metadata": {},
   "outputs": [
    {
     "data": {
      "text/plain": [
       "array([0.        , 0.05050505, 0.1010101 , 0.15151515, 0.2020202 ,\n",
       "       0.25252525, 0.3030303 , 0.35353535, 0.4040404 , 0.45454545,\n",
       "       0.50505051, 0.55555556, 0.60606061, 0.65656566, 0.70707071,\n",
       "       0.75757576, 0.80808081, 0.85858586, 0.90909091, 0.95959596,\n",
       "       1.01010101, 1.06060606, 1.11111111, 1.16161616, 1.21212121,\n",
       "       1.26262626, 1.31313131, 1.36363636, 1.41414141, 1.46464646,\n",
       "       1.51515152, 1.56565657, 1.61616162, 1.66666667, 1.71717172,\n",
       "       1.76767677, 1.81818182, 1.86868687, 1.91919192, 1.96969697,\n",
       "       2.02020202, 2.07070707, 2.12121212, 2.17171717, 2.22222222,\n",
       "       2.27272727, 2.32323232, 2.37373737, 2.42424242, 2.47474747,\n",
       "       2.52525253, 2.57575758, 2.62626263, 2.67676768, 2.72727273,\n",
       "       2.77777778, 2.82828283, 2.87878788, 2.92929293, 2.97979798,\n",
       "       3.03030303, 3.08080808, 3.13131313, 3.18181818, 3.23232323,\n",
       "       3.28282828, 3.33333333, 3.38383838, 3.43434343, 3.48484848,\n",
       "       3.53535354, 3.58585859, 3.63636364, 3.68686869, 3.73737374,\n",
       "       3.78787879, 3.83838384, 3.88888889, 3.93939394, 3.98989899,\n",
       "       4.04040404, 4.09090909, 4.14141414, 4.19191919, 4.24242424,\n",
       "       4.29292929, 4.34343434, 4.39393939, 4.44444444, 4.49494949,\n",
       "       4.54545455, 4.5959596 , 4.64646465, 4.6969697 , 4.74747475,\n",
       "       4.7979798 , 4.84848485, 4.8989899 , 4.94949495, 5.        ])"
      ]
     },
     "execution_count": 88,
     "metadata": {},
     "output_type": "execute_result"
    }
   ],
   "source": [
    "lin_array"
   ]
  },
  {
   "cell_type": "markdown",
   "id": "7d80b643-dfd5-4551-975b-d42c28355f79",
   "metadata": {},
   "source": [
    "# Generation RANDOM"
   ]
  },
  {
   "cell_type": "code",
   "execution_count": 93,
   "id": "c313373f-a6bd-4f7e-b572-ae772589ca8c",
   "metadata": {},
   "outputs": [
    {
     "data": {
      "text/plain": [
       "7"
      ]
     },
     "execution_count": 93,
     "metadata": {},
     "output_type": "execute_result"
    }
   ],
   "source": [
    "np.random.randint(0, 10)"
   ]
  },
  {
   "cell_type": "code",
   "execution_count": 94,
   "id": "b69a2aa8-0f1b-4184-9596-ec5fc93de432",
   "metadata": {},
   "outputs": [
    {
     "data": {
      "text/plain": [
       "array([[0.38906508, 0.95674719],\n",
       "       [0.8425157 , 0.53344158]])"
      ]
     },
     "execution_count": 94,
     "metadata": {},
     "output_type": "execute_result"
    }
   ],
   "source": [
    "np.random.rand(2, 2) #create an array with a specific shape with random floats"
   ]
  },
  {
   "cell_type": "markdown",
   "id": "20ef7485-dbc2-4b2e-a38a-fb4f550ea59e",
   "metadata": {},
   "source": [
    "### Exercise 3"
   ]
  },
  {
   "cell_type": "code",
   "execution_count": 95,
   "id": "e789090e-8328-45be-8a8c-c6e69c4f9ba2",
   "metadata": {},
   "outputs": [],
   "source": [
    "one_array = np.arange(20, 31)"
   ]
  },
  {
   "cell_type": "code",
   "execution_count": 96,
   "id": "83fc091c-2be6-4f89-946a-82bfc693990c",
   "metadata": {},
   "outputs": [
    {
     "data": {
      "text/plain": [
       "array([20, 21, 22, 23, 24, 25, 26, 27, 28, 29, 30])"
      ]
     },
     "execution_count": 96,
     "metadata": {},
     "output_type": "execute_result"
    }
   ],
   "source": [
    "one_array"
   ]
  },
  {
   "cell_type": "code",
   "execution_count": 97,
   "id": "349feb23-4ee9-4c8e-9263-01ca5f05ac78",
   "metadata": {},
   "outputs": [],
   "source": [
    "even_array = np.arange(10, 21, 2)"
   ]
  },
  {
   "cell_type": "code",
   "execution_count": 98,
   "id": "48a09dcd-9ce1-41f6-bbd4-84e60a814ba5",
   "metadata": {},
   "outputs": [
    {
     "data": {
      "text/plain": [
       "array([10, 12, 14, 16, 18, 20])"
      ]
     },
     "execution_count": 98,
     "metadata": {},
     "output_type": "execute_result"
    }
   ],
   "source": [
    "even_array"
   ]
  },
  {
   "cell_type": "code",
   "execution_count": 99,
   "id": "c5b27b14-25a4-435d-b755-2866e1bdd4a9",
   "metadata": {},
   "outputs": [],
   "source": [
    "my_lin_array = np.linspace(0, 1, 5)"
   ]
  },
  {
   "cell_type": "code",
   "execution_count": 100,
   "id": "72f8c621-eaed-4791-bf9d-e8deda9d3fc9",
   "metadata": {},
   "outputs": [
    {
     "data": {
      "text/plain": [
       "array([0.  , 0.25, 0.5 , 0.75, 1.  ])"
      ]
     },
     "execution_count": 100,
     "metadata": {},
     "output_type": "execute_result"
    }
   ],
   "source": [
    "my_lin_array"
   ]
  },
  {
   "cell_type": "code",
   "execution_count": 101,
   "id": "55b7258a-7bd8-4ce4-8172-7608f06ca74e",
   "metadata": {},
   "outputs": [],
   "source": [
    "my_rand_array = np.random.rand(0, 1, 3) "
   ]
  },
  {
   "cell_type": "code",
   "execution_count": 102,
   "id": "538e9b5d-e804-4faa-9bcd-43fc9c5f9816",
   "metadata": {},
   "outputs": [
    {
     "data": {
      "text/plain": [
       "array([], shape=(0, 1, 3), dtype=float64)"
      ]
     },
     "execution_count": 102,
     "metadata": {},
     "output_type": "execute_result"
    }
   ],
   "source": [
    "my_rand_array"
   ]
  },
  {
   "cell_type": "code",
   "execution_count": 103,
   "id": "420b1102-6c41-4ecd-a36a-7e7b2a27dc61",
   "metadata": {},
   "outputs": [],
   "source": [
    "my_rand_array = np.random.rand(3) "
   ]
  },
  {
   "cell_type": "code",
   "execution_count": 104,
   "id": "f5946ca7-55c7-4423-9596-10a018c5ad65",
   "metadata": {},
   "outputs": [
    {
     "data": {
      "text/plain": [
       "array([0.58995268, 0.93287913, 0.43833295])"
      ]
     },
     "execution_count": 104,
     "metadata": {},
     "output_type": "execute_result"
    }
   ],
   "source": [
    "my_rand_array "
   ]
  },
  {
   "cell_type": "code",
   "execution_count": 105,
   "id": "9b8d6ac8-9956-4945-b80b-bf1e9be669a0",
   "metadata": {},
   "outputs": [],
   "source": [
    "my_random_array = np.random.randint(1, 10, 4)"
   ]
  },
  {
   "cell_type": "code",
   "execution_count": 106,
   "id": "b6a15c87-9de1-47d0-9995-b62345bc3da4",
   "metadata": {},
   "outputs": [
    {
     "data": {
      "text/plain": [
       "array([5, 3, 9, 2])"
      ]
     },
     "execution_count": 106,
     "metadata": {},
     "output_type": "execute_result"
    }
   ],
   "source": [
    "my_random_array "
   ]
  },
  {
   "cell_type": "markdown",
   "id": "808b9098-7e98-41f9-9ac8-5ef761703250",
   "metadata": {},
   "source": [
    "# MATRIX OPERATIONS"
   ]
  },
  {
   "cell_type": "code",
   "execution_count": 107,
   "id": "f3a6da2f-bed4-4ea9-a929-499e48152745",
   "metadata": {},
   "outputs": [],
   "source": [
    "my_twodim_array = np.arange(0,25)"
   ]
  },
  {
   "cell_type": "code",
   "execution_count": 109,
   "id": "af56ac43-7fed-47c0-abe0-d62de715e41e",
   "metadata": {},
   "outputs": [],
   "source": [
    "my_twodim_array = my_twodim_array.reshape(5,5)"
   ]
  },
  {
   "cell_type": "code",
   "execution_count": 110,
   "id": "d0c03416-c522-4fbb-a41f-25ab015160fc",
   "metadata": {},
   "outputs": [
    {
     "data": {
      "text/plain": [
       "array([[ 0,  1,  2,  3,  4],\n",
       "       [ 5,  6,  7,  8,  9],\n",
       "       [10, 11, 12, 13, 14],\n",
       "       [15, 16, 17, 18, 19],\n",
       "       [20, 21, 22, 23, 24]])"
      ]
     },
     "execution_count": 110,
     "metadata": {},
     "output_type": "execute_result"
    }
   ],
   "source": [
    "my_twodim_array"
   ]
  },
  {
   "cell_type": "code",
   "execution_count": null,
   "id": "c3f8d758-18f2-4b22-9bd2-3c5b56c40da7",
   "metadata": {},
   "outputs": [],
   "source": [
    "# X - 0 columns\n",
    "# Y - 1 rows"
   ]
  },
  {
   "cell_type": "markdown",
   "id": "d9bf21c5-c5a6-44f9-b19b-ddc508bb3a9d",
   "metadata": {},
   "source": [
    "## The Mean"
   ]
  },
  {
   "cell_type": "code",
   "execution_count": 111,
   "id": "d4e05ff5-aa31-4aa0-a634-e9f126b3fc62",
   "metadata": {},
   "outputs": [
    {
     "data": {
      "text/plain": [
       "12.0"
      ]
     },
     "execution_count": 111,
     "metadata": {},
     "output_type": "execute_result"
    }
   ],
   "source": [
    "#(1,2,3,4,5) = (1+2+3+4+5)/5 = 3.0 ---> the mean! \n",
    "my_twodim_array.mean() #based on the whole matrix\n"
   ]
  },
  {
   "cell_type": "code",
   "execution_count": 112,
   "id": "7513fa24-590c-4081-8440-d7bb8f934ee2",
   "metadata": {},
   "outputs": [
    {
     "data": {
      "text/plain": [
       "array([ 2.,  7., 12., 17., 22.])"
      ]
     },
     "execution_count": 112,
     "metadata": {},
     "output_type": "execute_result"
    }
   ],
   "source": [
    "my_twodim_array.mean(axis=1) #based on rows"
   ]
  },
  {
   "cell_type": "code",
   "execution_count": 113,
   "id": "a071c68c-78d6-4474-b69b-564c2f492c67",
   "metadata": {},
   "outputs": [
    {
     "data": {
      "text/plain": [
       "array([10., 11., 12., 13., 14.])"
      ]
     },
     "execution_count": 113,
     "metadata": {},
     "output_type": "execute_result"
    }
   ],
   "source": [
    "my_twodim_array.mean(axis=0) #based on columns"
   ]
  },
  {
   "cell_type": "markdown",
   "id": "9b6b8489-33ed-4f7e-8b59-91de991b6bfb",
   "metadata": {},
   "source": [
    "## Sorting"
   ]
  },
  {
   "cell_type": "code",
   "execution_count": 114,
   "id": "fcb984bc-9076-4e9b-ac50-bfb16e5bada4",
   "metadata": {},
   "outputs": [
    {
     "data": {
      "text/plain": [
       "array([[0, 1, 2, 3, 4],\n",
       "       [0, 1, 2, 3, 4],\n",
       "       [0, 1, 2, 3, 4],\n",
       "       [0, 1, 2, 3, 4],\n",
       "       [0, 1, 2, 3, 4]])"
      ]
     },
     "execution_count": 114,
     "metadata": {},
     "output_type": "execute_result"
    }
   ],
   "source": [
    "my_twodim_array.argsort() #produce the sorting order based on the rows"
   ]
  },
  {
   "cell_type": "code",
   "execution_count": 115,
   "id": "e4c9b9ce-5d4f-4f87-a961-9da13d4b1497",
   "metadata": {},
   "outputs": [
    {
     "data": {
      "text/plain": [
       "array([[0, 0, 0, 0, 0],\n",
       "       [1, 1, 1, 1, 1],\n",
       "       [2, 2, 2, 2, 2],\n",
       "       [3, 3, 3, 3, 3],\n",
       "       [4, 4, 4, 4, 4]])"
      ]
     },
     "execution_count": 115,
     "metadata": {},
     "output_type": "execute_result"
    }
   ],
   "source": [
    "my_twodim_array.argsort(axis=0) #produce the sorting order based on the columns"
   ]
  },
  {
   "cell_type": "markdown",
   "id": "7bbab5d4-676c-448a-936c-fafa80ee747d",
   "metadata": {},
   "source": [
    "## Swapping"
   ]
  },
  {
   "cell_type": "code",
   "execution_count": 118,
   "id": "98460626-5ae4-46f6-98a1-11d667bac08f",
   "metadata": {},
   "outputs": [
    {
     "data": {
      "text/plain": [
       "array([[ 5,  6,  7,  8,  9],\n",
       "       [ 0,  1,  2,  3,  4],\n",
       "       [10, 11, 12, 13, 14],\n",
       "       [15, 16, 17, 18, 19],\n",
       "       [20, 21, 22, 23, 24]])"
      ]
     },
     "execution_count": 118,
     "metadata": {},
     "output_type": "execute_result"
    }
   ],
   "source": [
    "my_twodim_array"
   ]
  },
  {
   "cell_type": "code",
   "execution_count": 117,
   "id": "5c46f2f5-d302-46dc-aaa7-2285caf404d3",
   "metadata": {},
   "outputs": [],
   "source": [
    "my_twodim_array[[0,1]] = my_twodim_array[[1, 0]]"
   ]
  },
  {
   "cell_type": "code",
   "execution_count": 119,
   "id": "ff64a1fb-42cb-4547-9529-f7c89199474f",
   "metadata": {},
   "outputs": [
    {
     "data": {
      "text/plain": [
       "array([[ 5,  6,  7,  8,  9],\n",
       "       [ 0,  1,  2,  3,  4],\n",
       "       [10, 11, 12, 13, 14],\n",
       "       [15, 16, 17, 18, 19],\n",
       "       [20, 21, 22, 23, 24]])"
      ]
     },
     "execution_count": 119,
     "metadata": {},
     "output_type": "execute_result"
    }
   ],
   "source": [
    "my_twodim_array"
   ]
  },
  {
   "cell_type": "markdown",
   "id": "a5096371-20de-4586-b8f7-2c2ae9509367",
   "metadata": {},
   "source": [
    "# FUNCTIONS"
   ]
  },
  {
   "cell_type": "code",
   "execution_count": null,
   "id": "1b0fe5d7-bf39-4394-8c27-63bec3a044ad",
   "metadata": {},
   "outputs": [],
   "source": [
    " "
   ]
  }
 ],
 "metadata": {
  "kernelspec": {
   "display_name": "Python 3 (ipykernel)",
   "language": "python",
   "name": "python3"
  },
  "language_info": {
   "codemirror_mode": {
    "name": "ipython",
    "version": 3
   },
   "file_extension": ".py",
   "mimetype": "text/x-python",
   "name": "python",
   "nbconvert_exporter": "python",
   "pygments_lexer": "ipython3",
   "version": "3.11.4"
  }
 },
 "nbformat": 4,
 "nbformat_minor": 5
}
