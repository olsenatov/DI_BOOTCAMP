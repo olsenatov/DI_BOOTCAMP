{
 "cells": [
  {
   "cell_type": "code",
   "execution_count": 1,
   "id": "14415a5d-0029-44d9-9827-1a38f06177cd",
   "metadata": {},
   "outputs": [],
   "source": [
    "import numpy as np"
   ]
  },
  {
   "cell_type": "code",
   "execution_count": 2,
   "id": "b3a83fb2-b578-4c46-83a0-d9ba2cf4f544",
   "metadata": {},
   "outputs": [],
   "source": [
    "data_int = np.array(np.random.randint(1, 100, size=25)).reshape(5,5)"
   ]
  },
  {
   "cell_type": "code",
   "execution_count": 3,
   "id": "fa06d132-fabd-4a62-9f0f-b14d15146870",
   "metadata": {},
   "outputs": [
    {
     "data": {
      "text/plain": [
       "array([[45,  8, 69, 91, 38],\n",
       "       [47, 16, 31, 45, 19],\n",
       "       [47, 30, 30, 14, 21],\n",
       "       [83, 68, 63, 67, 23],\n",
       "       [51, 12, 50, 61, 48]])"
      ]
     },
     "execution_count": 3,
     "metadata": {},
     "output_type": "execute_result"
    }
   ],
   "source": [
    "#DC_D1_W5_.9 Find missing values - Replace random 5 elements in the data matrix with np.nan. Find the indices of the missing values.\n",
    "data_int"
   ]
  },
  {
   "cell_type": "code",
   "execution_count": 4,
   "id": "57c97b2d-217e-4249-be2d-5a3dcd19f0f2",
   "metadata": {},
   "outputs": [],
   "source": [
    "# generate 5 random indices "
   ]
  },
  {
   "cell_type": "code",
   "execution_count": 5,
   "id": "75c7239e-97bb-4f6b-8cf6-4298969cbdf3",
   "metadata": {},
   "outputs": [
    {
     "data": {
      "text/plain": [
       "(5, 5)"
      ]
     },
     "execution_count": 5,
     "metadata": {},
     "output_type": "execute_result"
    }
   ],
   "source": [
    "data_int.shape"
   ]
  },
  {
   "cell_type": "code",
   "execution_count": 6,
   "id": "296c456f-b4c6-491b-9e54-1e0e32192dec",
   "metadata": {},
   "outputs": [],
   "source": [
    "random_idx = np.random.choice(data_int.size, 5)"
   ]
  },
  {
   "cell_type": "code",
   "execution_count": 7,
   "id": "c026f72d-72d9-4187-b14a-4544ac1437b1",
   "metadata": {},
   "outputs": [
    {
     "data": {
      "text/plain": [
       "array([ 0,  8,  8, 21,  2])"
      ]
     },
     "execution_count": 7,
     "metadata": {},
     "output_type": "execute_result"
    }
   ],
   "source": [
    "random_idx"
   ]
  },
  {
   "cell_type": "code",
   "execution_count": 8,
   "id": "9f2f303c-4a43-43f5-8233-0d12bb1623ff",
   "metadata": {},
   "outputs": [],
   "source": [
    "#change to float since nan doesn't accept int\n",
    "data_float = data_int.astype('float16')"
   ]
  },
  {
   "cell_type": "code",
   "execution_count": 9,
   "id": "218e84b5-9c0e-4ec9-93ee-13a19227e8b7",
   "metadata": {},
   "outputs": [
    {
     "data": {
      "text/plain": [
       "array([[45.,  8., 69., 91., 38.],\n",
       "       [47., 16., 31., 45., 19.],\n",
       "       [47., 30., 30., 14., 21.],\n",
       "       [83., 68., 63., 67., 23.],\n",
       "       [51., 12., 50., 61., 48.]], dtype=float16)"
      ]
     },
     "execution_count": 9,
     "metadata": {},
     "output_type": "execute_result"
    }
   ],
   "source": [
    "data_float"
   ]
  },
  {
   "cell_type": "code",
   "execution_count": 11,
   "id": "ca8b475e-3758-4833-a1f6-b4de1ce71f6d",
   "metadata": {},
   "outputs": [],
   "source": [
    "data_float = data_float.reshape(25,)"
   ]
  },
  {
   "cell_type": "code",
   "execution_count": 12,
   "id": "8381ad90-2640-4d38-a9c5-347bc8bff3bf",
   "metadata": {},
   "outputs": [
    {
     "data": {
      "text/plain": [
       "array([45.,  8., 69., 91., 38., 47., 16., 31., 45., 19., 47., 30., 30.,\n",
       "       14., 21., 83., 68., 63., 67., 23., 51., 12., 50., 61., 48.],\n",
       "      dtype=float16)"
      ]
     },
     "execution_count": 12,
     "metadata": {},
     "output_type": "execute_result"
    }
   ],
   "source": [
    "data_float"
   ]
  },
  {
   "cell_type": "code",
   "execution_count": 14,
   "id": "b4e57561-bc71-4900-b2ce-a1e5577d3475",
   "metadata": {},
   "outputs": [],
   "source": [
    "data_float[random_idx] = np.nan"
   ]
  },
  {
   "cell_type": "code",
   "execution_count": 15,
   "id": "871b6b3c-56a4-4a63-b2f5-4e47ee3d4237",
   "metadata": {},
   "outputs": [
    {
     "data": {
      "text/plain": [
       "array([nan,  8., nan, 91., 38., 47., 16., 31., nan, 19., 47., 30., 30.,\n",
       "       14., 21., 83., 68., 63., 67., 23., 51., nan, 50., 61., 48.],\n",
       "      dtype=float16)"
      ]
     },
     "execution_count": 15,
     "metadata": {},
     "output_type": "execute_result"
    }
   ],
   "source": [
    "data_float"
   ]
  },
  {
   "cell_type": "code",
   "execution_count": 16,
   "id": "47fd2ab8-de76-411d-a25c-034da6f5b9a3",
   "metadata": {},
   "outputs": [],
   "source": [
    "data_float2 = data_float.reshape(5,5)"
   ]
  },
  {
   "cell_type": "code",
   "execution_count": 17,
   "id": "c33382f4-e24b-411a-bcd0-a5c9893ebde7",
   "metadata": {},
   "outputs": [
    {
     "data": {
      "text/plain": [
       "array([[nan,  8., nan, 91., 38.],\n",
       "       [47., 16., 31., nan, 19.],\n",
       "       [47., 30., 30., 14., 21.],\n",
       "       [83., 68., 63., 67., 23.],\n",
       "       [51., nan, 50., 61., 48.]], dtype=float16)"
      ]
     },
     "execution_count": 17,
     "metadata": {},
     "output_type": "execute_result"
    }
   ],
   "source": [
    "data_float2"
   ]
  },
  {
   "cell_type": "code",
   "execution_count": 18,
   "id": "30eea0d4-8b56-44b4-88e7-3fed724bf2af",
   "metadata": {},
   "outputs": [
    {
     "data": {
      "text/plain": [
       "array([[ True, False,  True, False, False],\n",
       "       [False, False, False,  True, False],\n",
       "       [False, False, False, False, False],\n",
       "       [False, False, False, False, False],\n",
       "       [False,  True, False, False, False]])"
      ]
     },
     "execution_count": 18,
     "metadata": {},
     "output_type": "execute_result"
    }
   ],
   "source": [
    "\n",
    "#True/False representation of the array based on condition\n",
    "np.isnan(data_float2)"
   ]
  },
  {
   "cell_type": "code",
   "execution_count": 21,
   "id": "c77ed219-c27e-48b4-9fc2-e23207915d58",
   "metadata": {},
   "outputs": [
    {
     "data": {
      "text/plain": [
       "array([[0, 0],\n",
       "       [0, 2],\n",
       "       [1, 3],\n",
       "       [4, 1]])"
      ]
     },
     "execution_count": 21,
     "metadata": {},
     "output_type": "execute_result"
    }
   ],
   "source": [
    "np.argwhere(np.isnan(data_float2))"
   ]
  },
  {
   "cell_type": "code",
   "execution_count": 23,
   "id": "d99eb578-744d-4dde-91d8-72bcb6b04e35",
   "metadata": {},
   "outputs": [
    {
     "data": {
      "text/plain": [
       "array([[nan,  8., nan, 91., 38.],\n",
       "       [47., 16., 31., nan, 19.],\n",
       "       [47., 30., 30., 14., 21.],\n",
       "       [83., 68., 63., 67., 23.],\n",
       "       [51., nan, 50., 61., 48.]], dtype=float16)"
      ]
     },
     "execution_count": 23,
     "metadata": {},
     "output_type": "execute_result"
    }
   ],
   "source": [
    "#DC_D1_W5_.10 Replace the missing values in the data matrix with the mean of the matrix (ignoring the missing values while computing the mean\n",
    "\n",
    "data_float2"
   ]
  },
  {
   "cell_type": "code",
   "execution_count": 28,
   "id": "f770e8ac-5448-42c1-89c3-1e9c28f3a8ea",
   "metadata": {},
   "outputs": [],
   "source": [
    "#nanmean skips the nan values to calculate the mean of the array\n",
    "matrix_mean = np.nanmean(data_float2)"
   ]
  },
  {
   "cell_type": "code",
   "execution_count": 29,
   "id": "3a97941d-74e8-4fed-a63b-907036fd0eff",
   "metadata": {},
   "outputs": [
    {
     "data": {
      "text/plain": [
       "43.16"
      ]
     },
     "execution_count": 29,
     "metadata": {},
     "output_type": "execute_result"
    }
   ],
   "source": [
    "matrix_mean"
   ]
  },
  {
   "cell_type": "code",
   "execution_count": 30,
   "id": "08b7a326-2f31-45ab-968d-9b8bd4667a27",
   "metadata": {},
   "outputs": [],
   "source": [
    "nan_idx = np.isnan(data_float2)"
   ]
  },
  {
   "cell_type": "code",
   "execution_count": 31,
   "id": "ea62d391-30de-4a5a-9cef-05fc20bbb5a8",
   "metadata": {},
   "outputs": [
    {
     "data": {
      "text/plain": [
       "array([[ True, False,  True, False, False],\n",
       "       [False, False, False,  True, False],\n",
       "       [False, False, False, False, False],\n",
       "       [False, False, False, False, False],\n",
       "       [False,  True, False, False, False]])"
      ]
     },
     "execution_count": 31,
     "metadata": {},
     "output_type": "execute_result"
    }
   ],
   "source": [
    "nan_idx"
   ]
  },
  {
   "cell_type": "code",
   "execution_count": 34,
   "id": "a112043c-15b5-4fa2-9110-91b2902de458",
   "metadata": {},
   "outputs": [],
   "source": [
    "data_float2[nan_idx] = matrix_mean"
   ]
  },
  {
   "cell_type": "code",
   "execution_count": 35,
   "id": "f0634bfc-eb9a-49e4-8b66-5e51bb5c20b4",
   "metadata": {},
   "outputs": [
    {
     "data": {
      "text/plain": [
       "array([[43.16,  8.  , 43.16, 91.  , 38.  ],\n",
       "       [47.  , 16.  , 31.  , 43.16, 19.  ],\n",
       "       [47.  , 30.  , 30.  , 14.  , 21.  ],\n",
       "       [83.  , 68.  , 63.  , 67.  , 23.  ],\n",
       "       [51.  , 43.16, 50.  , 61.  , 48.  ]], dtype=float16)"
      ]
     },
     "execution_count": 35,
     "metadata": {},
     "output_type": "execute_result"
    }
   ],
   "source": [
    "data_float2"
   ]
  },
  {
   "cell_type": "code",
   "execution_count": null,
   "id": "19a4b1f9-36e4-4ba1-9452-68b6eeb027b6",
   "metadata": {},
   "outputs": [],
   "source": []
  }
 ],
 "metadata": {
  "kernelspec": {
   "display_name": "Python 3 (ipykernel)",
   "language": "python",
   "name": "python3"
  },
  "language_info": {
   "codemirror_mode": {
    "name": "ipython",
    "version": 3
   },
   "file_extension": ".py",
   "mimetype": "text/x-python",
   "name": "python",
   "nbconvert_exporter": "python",
   "pygments_lexer": "ipython3",
   "version": "3.11.4"
  }
 },
 "nbformat": 4,
 "nbformat_minor": 5
}
