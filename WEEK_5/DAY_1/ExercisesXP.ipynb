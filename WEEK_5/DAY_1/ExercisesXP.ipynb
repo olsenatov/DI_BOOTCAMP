{
 "cells": [
  {
   "cell_type": "code",
   "execution_count": 1,
   "id": "06041247-cbee-4cb3-bff3-846efd6f2972",
   "metadata": {},
   "outputs": [],
   "source": [
    "import numpy as np"
   ]
  },
  {
   "cell_type": "code",
   "execution_count": 4,
   "id": "0f440a8e-fea6-483e-99e9-fff0706b9ac2",
   "metadata": {},
   "outputs": [],
   "source": [
    "#2.Create a vector* of zeros with size 10 using np.zeros(). [0. 0. 0. 0. 0. 0. 0. 0. 0. 0.]\n",
    "\n",
    "array_zero = np.zeros(10)"
   ]
  },
  {
   "cell_type": "code",
   "execution_count": 6,
   "id": "ca30b1d6-87e7-4f49-88b2-dc9f56089686",
   "metadata": {},
   "outputs": [
    {
     "data": {
      "text/plain": [
       "array([0., 0., 0., 0., 0., 0., 0., 0., 0., 0.])"
      ]
     },
     "execution_count": 6,
     "metadata": {},
     "output_type": "execute_result"
    }
   ],
   "source": [
    "array_zero"
   ]
  },
  {
   "cell_type": "code",
   "execution_count": 7,
   "id": "cb34c69e-e29b-4a0a-9264-60c6a2d5161a",
   "metadata": {},
   "outputs": [
    {
     "data": {
      "text/plain": [
       "8"
      ]
     },
     "execution_count": 7,
     "metadata": {},
     "output_type": "execute_result"
    }
   ],
   "source": [
    "#3 Compute the memory size* of any array. \n",
    "array_zero.itemsize"
   ]
  },
  {
   "cell_type": "code",
   "execution_count": 8,
   "id": "8480ae09-6380-473a-ac7f-f59707fa828a",
   "metadata": {},
   "outputs": [],
   "source": [
    "memory_size = array_zero.size * array_zero.itemsize"
   ]
  },
  {
   "cell_type": "code",
   "execution_count": 9,
   "id": "45ed156f-cf4a-4f3a-9810-392a6c318e90",
   "metadata": {},
   "outputs": [
    {
     "data": {
      "text/plain": [
       "80"
      ]
     },
     "execution_count": 9,
     "metadata": {},
     "output_type": "execute_result"
    }
   ],
   "source": [
    "memory_size"
   ]
  },
  {
   "cell_type": "code",
   "execution_count": 11,
   "id": "ff44adcf-6bf1-441b-a042-b6f929566dd3",
   "metadata": {},
   "outputs": [],
   "source": [
    "#5 Create a vector with values ranging from 10 to 49 using np.arange()\n",
    "my_vector = np.arange(10, 50)"
   ]
  },
  {
   "cell_type": "code",
   "execution_count": 12,
   "id": "c9624e5e-00f8-4f9b-a50d-aa5c3a4bf5b9",
   "metadata": {},
   "outputs": [
    {
     "data": {
      "text/plain": [
       "array([10, 11, 12, 13, 14, 15, 16, 17, 18, 19, 20, 21, 22, 23, 24, 25, 26,\n",
       "       27, 28, 29, 30, 31, 32, 33, 34, 35, 36, 37, 38, 39, 40, 41, 42, 43,\n",
       "       44, 45, 46, 47, 48, 49])"
      ]
     },
     "execution_count": 12,
     "metadata": {},
     "output_type": "execute_result"
    }
   ],
   "source": [
    "my_vector"
   ]
  },
  {
   "cell_type": "code",
   "execution_count": 13,
   "id": "b6d55ccf-cef1-4d29-8d4f-a5ecc0898903",
   "metadata": {},
   "outputs": [
    {
     "data": {
      "text/plain": [
       "array([49, 48, 47, 46, 45, 44, 43, 42, 41, 40, 39, 38, 37, 36, 35, 34, 33,\n",
       "       32, 31, 30, 29, 28, 27, 26, 25, 24, 23, 22, 21, 20, 19, 18, 17, 16,\n",
       "       15, 14, 13, 12, 11, 10])"
      ]
     },
     "execution_count": 13,
     "metadata": {},
     "output_type": "execute_result"
    }
   ],
   "source": [
    "#6 Reverse a vector so the first element becomes last\n",
    "my_vector[::-1]"
   ]
  },
  {
   "cell_type": "code",
   "execution_count": 14,
   "id": "c596178f-9ab5-4264-84c7-96e02d52f333",
   "metadata": {},
   "outputs": [],
   "source": [
    "#7 create a 3x3 matrix* with values ranging from 0 to 8\n",
    "my_array = np.arange(0,9)"
   ]
  },
  {
   "cell_type": "code",
   "execution_count": 15,
   "id": "d7266224-70e6-4ba5-9a65-768ca4656a6a",
   "metadata": {},
   "outputs": [],
   "source": [
    "my_matrix = my_array.reshape(3,3)"
   ]
  },
  {
   "cell_type": "code",
   "execution_count": 16,
   "id": "aa535fc1-d0fd-45fb-b9af-4cf26af9124f",
   "metadata": {},
   "outputs": [
    {
     "data": {
      "text/plain": [
       "array([[0, 1, 2],\n",
       "       [3, 4, 5],\n",
       "       [6, 7, 8]])"
      ]
     },
     "execution_count": 16,
     "metadata": {},
     "output_type": "execute_result"
    }
   ],
   "source": [
    "my_matrix"
   ]
  },
  {
   "cell_type": "code",
   "execution_count": 17,
   "id": "567f975e-ee27-4ab0-8521-96d568353c04",
   "metadata": {},
   "outputs": [],
   "source": [
    "#8 Find indices of non-zero elements from [1,2,0,0,4,0] using np.nonzero().\n",
    "\n",
    "array = np.array([1,2,0,0,4,0])"
   ]
  },
  {
   "cell_type": "code",
   "execution_count": 18,
   "id": "adc1ec58-dcaf-4952-8570-213d8b2881c9",
   "metadata": {},
   "outputs": [
    {
     "data": {
      "text/plain": [
       "(array([0, 1, 4]),)"
      ]
     },
     "execution_count": 18,
     "metadata": {},
     "output_type": "execute_result"
    }
   ],
   "source": [
    "np.nonzero(array)"
   ]
  },
  {
   "cell_type": "code",
   "execution_count": 19,
   "id": "27507fe1-39b0-4785-9919-78143cc5bcc8",
   "metadata": {},
   "outputs": [
    {
     "data": {
      "text/plain": [
       "array([[1., 0., 0.],\n",
       "       [0., 1., 0.],\n",
       "       [0., 0., 1.]])"
      ]
     },
     "execution_count": 19,
     "metadata": {},
     "output_type": "execute_result"
    }
   ],
   "source": [
    "#9 Create a 3x3 identity matrix* using np.eye().\n",
    "np.eye(3)"
   ]
  },
  {
   "cell_type": "code",
   "execution_count": 20,
   "id": "c1a0daf2-738b-4671-9454-51bf33b62562",
   "metadata": {},
   "outputs": [],
   "source": [
    "#10 Create a 5x5 matrix with row values ranging from 0 to 4. The output should be a matrix where each row is [0, 1, 2, 3, 4].\n",
    "my_array_rows = np.arange(5)"
   ]
  },
  {
   "cell_type": "code",
   "execution_count": 22,
   "id": "f4ec605d-044d-4248-b69b-93708d199661",
   "metadata": {},
   "outputs": [],
   "source": [
    "matrix_rows = np.tile(my_array_rows, (5, 1))"
   ]
  },
  {
   "cell_type": "code",
   "execution_count": 23,
   "id": "4085b804-f6b2-4b9e-ab80-bfce0d142d3b",
   "metadata": {},
   "outputs": [
    {
     "data": {
      "text/plain": [
       "array([[0, 1, 2, 3, 4],\n",
       "       [0, 1, 2, 3, 4],\n",
       "       [0, 1, 2, 3, 4],\n",
       "       [0, 1, 2, 3, 4],\n",
       "       [0, 1, 2, 3, 4]])"
      ]
     },
     "execution_count": 23,
     "metadata": {},
     "output_type": "execute_result"
    }
   ],
   "source": [
    "matrix_rows"
   ]
  },
  {
   "cell_type": "code",
   "execution_count": 24,
   "id": "7993115a-c3f5-4e23-91ca-06e7f40c1fab",
   "metadata": {},
   "outputs": [],
   "source": [
    "#11 Create a vector of size 10 with values ranging from 0 to 1, both excluded.\n",
    "lin_array = np.linspace(0, 1, 10 )"
   ]
  },
  {
   "cell_type": "code",
   "execution_count": 25,
   "id": "1671fa0a-fe36-4b02-b3a5-40238c57c91f",
   "metadata": {},
   "outputs": [
    {
     "data": {
      "text/plain": [
       "array([0.        , 0.11111111, 0.22222222, 0.33333333, 0.44444444,\n",
       "       0.55555556, 0.66666667, 0.77777778, 0.88888889, 1.        ])"
      ]
     },
     "execution_count": 25,
     "metadata": {},
     "output_type": "execute_result"
    }
   ],
   "source": [
    "lin_array"
   ]
  },
  {
   "cell_type": "code",
   "execution_count": 28,
   "id": "0df32495-7a33-4af7-b702-e4af3beea4c4",
   "metadata": {},
   "outputs": [],
   "source": [
    "lin_array2 = np.linspace(0, 1, 12 )[1:-1]"
   ]
  },
  {
   "cell_type": "code",
   "execution_count": 29,
   "id": "55b69fef-9263-4fd6-b2b4-af1768728492",
   "metadata": {},
   "outputs": [
    {
     "data": {
      "text/plain": [
       "array([0.09090909, 0.18181818, 0.27272727, 0.36363636, 0.45454545,\n",
       "       0.54545455, 0.63636364, 0.72727273, 0.81818182, 0.90909091])"
      ]
     },
     "execution_count": 29,
     "metadata": {},
     "output_type": "execute_result"
    }
   ],
   "source": [
    "lin_array2"
   ]
  },
  {
   "cell_type": "code",
   "execution_count": 32,
   "id": "a36ab9af-f2f5-4bfa-92e5-4a188ebf2268",
   "metadata": {},
   "outputs": [],
   "source": [
    "#12 Create a random vector of size 10 and sort it\n",
    "random_vector = np.random.randint(10 , 30 , 10)"
   ]
  },
  {
   "cell_type": "code",
   "execution_count": 33,
   "id": "5c375c67-d1c6-4dee-81ad-5827222cfc7b",
   "metadata": {},
   "outputs": [
    {
     "data": {
      "text/plain": [
       "array([23, 19, 25, 21, 15, 13, 13, 28, 16, 12])"
      ]
     },
     "execution_count": 33,
     "metadata": {},
     "output_type": "execute_result"
    }
   ],
   "source": [
    "random_vector"
   ]
  },
  {
   "cell_type": "code",
   "execution_count": 34,
   "id": "362eb793-b8a2-44e9-bfca-3b82c95bf24e",
   "metadata": {},
   "outputs": [],
   "source": [
    "sorted_vector = np.sort(random_vector)"
   ]
  },
  {
   "cell_type": "code",
   "execution_count": 35,
   "id": "ea7ad470-ab6f-431a-8a16-efe957610039",
   "metadata": {},
   "outputs": [
    {
     "data": {
      "text/plain": [
       "array([12, 13, 13, 15, 16, 19, 21, 23, 25, 28])"
      ]
     },
     "execution_count": 35,
     "metadata": {},
     "output_type": "execute_result"
    }
   ],
   "source": [
    "sorted_vector"
   ]
  },
  {
   "cell_type": "code",
   "execution_count": 42,
   "id": "d984498d-ac05-434c-918c-1d9bb1f9f841",
   "metadata": {},
   "outputs": [
    {
     "name": "stdout",
     "output_type": "stream",
     "text": [
      "for <class 'numpy.int8'> Min is -128, Max is 127\n",
      "for <class 'numpy.int32'> Min is -2147483648, Max is 2147483647\n",
      "for <class 'numpy.int64'> Min is -9223372036854775808, Max is 9223372036854775807\n"
     ]
    }
   ],
   "source": [
    "#13 Print the minimum and maximum representable value for each numpy scalar type* (int8, int32, int64, float32, float64). Use np.iinfo and np.finfo.\n",
    "int_types = [np.int8, np.int32, np.int64]\n",
    "for dtype in int_types:\n",
    "    info = np.iinfo(dtype)\n",
    "    print(f\"for {dtype} Min is {info.min}, Max is {info.max}\")\n"
   ]
  },
  {
   "cell_type": "code",
   "execution_count": 44,
   "id": "4a853e96-a00b-40c5-ae8b-bb0d4b5d1353",
   "metadata": {},
   "outputs": [
    {
     "name": "stdout",
     "output_type": "stream",
     "text": [
      "for <class 'numpy.float32'> Min is -3.4028234663852886e+38, Max is 3.4028234663852886e+38\n",
      "for <class 'numpy.float64'> Min is -1.7976931348623157e+308, Max is 1.7976931348623157e+308\n"
     ]
    }
   ],
   "source": [
    "float_types = [np.float32, np.float64]\n",
    "for dtype in float_types:\n",
    "    info = np.finfo(dtype)\n",
    "    print(f\"for {dtype} Min is {info.min}, Max is {info.max}\")"
   ]
  },
  {
   "cell_type": "code",
   "execution_count": 45,
   "id": "5e300dfc-243b-4ecd-80d7-36994d8c6e2a",
   "metadata": {},
   "outputs": [],
   "source": [
    "#14 How to convert a float (32 bits) array into an integer (32 bits) in place?\n",
    "float_array2 = np.array([1.2, 2.3, 3.4, 5.6, 7.8], dtype=np.float32)"
   ]
  },
  {
   "cell_type": "code",
   "execution_count": 48,
   "id": "3787f5c3-3283-4f8d-8d30-c37ce043e9b0",
   "metadata": {},
   "outputs": [],
   "source": [
    "float_array3 = float_array2.astype(np.int32)"
   ]
  },
  {
   "cell_type": "code",
   "execution_count": 49,
   "id": "9fbd0f4a-5e94-423a-9359-1cad86b591f4",
   "metadata": {},
   "outputs": [
    {
     "data": {
      "text/plain": [
       "array([1, 2, 3, 5, 7], dtype=int32)"
      ]
     },
     "execution_count": 49,
     "metadata": {},
     "output_type": "execute_result"
    }
   ],
   "source": [
    "float_array3"
   ]
  },
  {
   "cell_type": "code",
   "execution_count": 50,
   "id": "35ade270-f709-4c32-8b17-3132c00efea3",
   "metadata": {},
   "outputs": [],
   "source": [
    "#15 Subtract the mean of each row of a matrix. \n",
    "matrix = np.array([[1, 2, 3],\n",
    "                   [4, 5, 6],\n",
    "                   [7, 8, 9]])"
   ]
  },
  {
   "cell_type": "code",
   "execution_count": 51,
   "id": "5fc009ff-2311-45c9-91db-d1e80719ebe7",
   "metadata": {},
   "outputs": [],
   "source": [
    "row_means = np.mean(matrix, axis=1, keepdims=True)\n"
   ]
  },
  {
   "cell_type": "code",
   "execution_count": 53,
   "id": "8b56296c-e413-43f9-8e3c-724eea206822",
   "metadata": {},
   "outputs": [
    {
     "data": {
      "text/plain": [
       "array([[2.],\n",
       "       [5.],\n",
       "       [8.]])"
      ]
     },
     "execution_count": 53,
     "metadata": {},
     "output_type": "execute_result"
    }
   ],
   "source": [
    "row_means"
   ]
  },
  {
   "cell_type": "code",
   "execution_count": 54,
   "id": "fa3aa264-367b-4b5a-ac50-cc748d5305c1",
   "metadata": {},
   "outputs": [],
   "source": [
    "new_matrix = matrix - row_means"
   ]
  },
  {
   "cell_type": "code",
   "execution_count": 55,
   "id": "2bde3ffa-df02-4eaa-b242-a1935892c36d",
   "metadata": {},
   "outputs": [
    {
     "data": {
      "text/plain": [
       "array([[-1.,  0.,  1.],\n",
       "       [-1.,  0.,  1.],\n",
       "       [-1.,  0.,  1.]])"
      ]
     },
     "execution_count": 55,
     "metadata": {},
     "output_type": "execute_result"
    }
   ],
   "source": [
    "new_matrix"
   ]
  },
  {
   "cell_type": "code",
   "execution_count": 63,
   "id": "0c02de98-72a9-40eb-9160-d330bc43e768",
   "metadata": {},
   "outputs": [],
   "source": [
    "#16 How to sort an array by the nth column? Use np.argsort.\n",
    "array2d = np.array([[4, 8, 3],[6, 3, 1],[9, 8, 4], [7, 9, 3]])"
   ]
  },
  {
   "cell_type": "code",
   "execution_count": 64,
   "id": "adbe34d1-c23e-45a9-9925-4e4c417f7f68",
   "metadata": {},
   "outputs": [],
   "source": [
    "n = 1\n",
    "array2d_sort = np.argsort(array2d[:, n]) "
   ]
  },
  {
   "cell_type": "code",
   "execution_count": 67,
   "id": "58e40104-7672-4f6f-8062-b3c10f142e19",
   "metadata": {},
   "outputs": [],
   "source": [
    "sorted_2d = array2d[array2d_sort]"
   ]
  },
  {
   "cell_type": "code",
   "execution_count": 68,
   "id": "ae8a5dd8-f82e-460c-a48d-6814f0577718",
   "metadata": {},
   "outputs": [
    {
     "data": {
      "text/plain": [
       "array([[6, 3, 1],\n",
       "       [4, 8, 3],\n",
       "       [9, 8, 4],\n",
       "       [7, 9, 3]])"
      ]
     },
     "execution_count": 68,
     "metadata": {},
     "output_type": "execute_result"
    }
   ],
   "source": [
    "sorted_2d"
   ]
  },
  {
   "cell_type": "code",
   "execution_count": 71,
   "id": "2c79483e-844f-4d2c-8485-0e556e1f8bee",
   "metadata": {},
   "outputs": [],
   "source": [
    "#17 How to swap two rows of an array? You can do this using array indexing.\n",
    "array2d[[0,1]] = array2d[[1, 0]]"
   ]
  },
  {
   "cell_type": "code",
   "execution_count": 72,
   "id": "e938d25d-7ed7-4c70-9d48-2f1cad318587",
   "metadata": {},
   "outputs": [
    {
     "data": {
      "text/plain": [
       "array([[4, 8, 3],\n",
       "       [6, 3, 1],\n",
       "       [9, 8, 4],\n",
       "       [7, 9, 3]])"
      ]
     },
     "execution_count": 72,
     "metadata": {},
     "output_type": "execute_result"
    }
   ],
   "source": [
    "array2d"
   ]
  },
  {
   "cell_type": "code",
   "execution_count": 73,
   "id": "ec559e0c-c314-4482-8626-0043c7a4cb7d",
   "metadata": {},
   "outputs": [],
   "source": [
    "#Given an array C that is a bincount*, how to produce an array A such that np.bincount(A) == C? Use np.repeat.\n",
    "\n",
    "C = np.array([0, 2, 3, 0, 1, 0, 1])"
   ]
  },
  {
   "cell_type": "code",
   "execution_count": 74,
   "id": "dc1b87ea-a5ef-4296-a620-68e25ae695e3",
   "metadata": {},
   "outputs": [],
   "source": [
    "A = np.repeat(np.arange(len(C)), C)"
   ]
  },
  {
   "cell_type": "code",
   "execution_count": 75,
   "id": "2938b70a-e214-465c-bc07-e95e08a756b8",
   "metadata": {},
   "outputs": [
    {
     "data": {
      "text/plain": [
       "array([1, 1, 2, 2, 2, 4, 6])"
      ]
     },
     "execution_count": 75,
     "metadata": {},
     "output_type": "execute_result"
    }
   ],
   "source": [
    "A "
   ]
  }
 ],
 "metadata": {
  "kernelspec": {
   "display_name": "Python 3 (ipykernel)",
   "language": "python",
   "name": "python3"
  },
  "language_info": {
   "codemirror_mode": {
    "name": "ipython",
    "version": 3
   },
   "file_extension": ".py",
   "mimetype": "text/x-python",
   "name": "python",
   "nbconvert_exporter": "python",
   "pygments_lexer": "ipython3",
   "version": "3.11.4"
  }
 },
 "nbformat": 4,
 "nbformat_minor": 5
}
